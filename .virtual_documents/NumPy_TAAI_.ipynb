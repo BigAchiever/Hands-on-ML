








# Assigning importance to each factor
weights = [0.5, 0.2, 0.3]  # More emphasis on exercise

# Sample user data: [exercise_minutes, water_liters, sleep_hours]
day1 = [45, 2.0, 6.5]
day2 = [30, 1.5, 8.0]
day3 = [60, 3.0, 7.0]





def compute_score(day_data, weights):
    result = 0
    for i in range(len(day_data)):
        result += day_data[i] * weights[i]
    return result

# Example usage
print(compute_score(day1, weights))  # Output: Fitness score for day1
print(compute_score(day2, weights))
print(compute_score(day3, weights))






list1 = [1, 2, 3]
list2 = ['a', 'b', 'c']
zipped_result = zip(list1, list2)

# Convert the zip object to a list to view the contents
print(list(zipped_result))


print(list(zip(day1,weights)))


def compute_score(day_data, weights):
    result = 0
    for data,w in zip(day_data,weights):
        result += data*w

    return result

# Example usage
print(compute_score(day1, weights))





import numpy as np






day1 = np.array([45, 2.0, 6.5])
weights = np.array([0.5, 0.2, 0.3])



type(day1)


day1[0]


a=5.0
print(type(a))


score = np.dot(day1, weights)
print("Fitness Score:", score)






print(day1*weights)


(day1 * weights).sum()







workout_minutes = list(range(30, 1000000))
calories_burned = list(range(30, 1000000))

# Convert to NumPy arrays
workout_np = np.array(workout_minutes)
calories_np = np.array(calories_burned)

# Compare performance of Python loop vs NumPy dot product



%%time
energy_score_loop = 0
for w, c in zip(workout_minutes, calories_burned):
    energy_score_loop += w * c
print(energy_score_loop)





%%time
energy_score_np = np.dot(workout_np, calories_np)
print(energy_score_np)





week_data = np.array([
    [45, 2.0, 6.5],
    [30, 1.5, 8.0],
    [60, 3.0, 7.0],
    [50, 2.5, 7.5],
    [40, 1.8, 6.0],
    [55, 2.2, 6.8],
    [35, 1.6, 7.2]
])
#2d array


# print(week_data)
print(week_data.shape)


x=np.array([1,2,3])
print(x.shape)


weights = np.array([0.5, 0.2, 0.3])
#1d array



arr = np.array([[[1, 2, 3], [4, 5, 6]],

                 [[1, 2, 3], [4, 5, 6]]])

print(arr.shape)





arr = np.array([
    [8, 2, 1],
    [9, 3, 2],
    [7, 1, 2]
])
print("arr dtype:", arr.dtype)





# Introduce one float into the array
arr2 = np.array([
    [8.0, 2, 1],
    [9, 3, 2],
    [7, 1, 2]
])
print("arr2 dtype:",arr2.dtype)



weekly_scores = np.dot(week_data, weights)
print("Weekly Scores:", weekly_scores)



weekly_scores1=week_data @ weights
print("Weekly Scores1:", weekly_scores1)





# Load data from UCI Wine Quality Dataset (hosted on GitHub)
url = 'https://archive.ics.uci.edu/ml/machine-learning-databases/wine-quality/winequality-red.csv'



# Use genfromtxt with proper delimiter and header skip
wine_data = np.genfromtxt(url, delimiter=';', skip_header=1)
print("Shape of dataset:", wine_data.shape)



print(wine_data)





import urllib.request

# URL of the dataset
url = 'https://archive.ics.uci.edu/ml/machine-learning-databases/wine-quality/winequality-red.csv'

# Local filename to save as
filename = 'winequality-red.csv'

# Download the file from `url` and save it locally under `filename`
urllib.request.urlretrieve(url, filename)

print(f"File saved as: {filename}")




wine_data = np.genfromtxt('winequality-red.csv', delimiter=';', skip_header=1)
print(wine_data.shape)


wine_data





mean_vals = np.mean(wine_data, axis=0)
std_vals = np.std(wine_data, axis=0)
print("Means:\n", mean_vals)
print("Standard Deviations:\n", std_vals)



x = np.array([[1, 2, 3],
                      [4, 5, 6],
                      [7, 8, 9]])
mean_vals = np.mean(x, axis=1)
print(mean_vals)









wine_data[:,10]>10


high_alcohol = wine_data[wine_data[:, 10] > 10]
print(high_alcohol)
high_alcohol.shape
print("High alcohol wines:", high_alcohol.shape[0])






good_wines = wine_data[wine_data[:, -1] >= 7]
print("Good quality wines:", good_wines.shape[0])



lst=[1,2,3,4,5,6]
print(lst[:5])





print(wine_data[:5, :5])






np.unique(wine_data[:, -1])


wine_data[:, -1] == 5


np.mean(wine_data[wine_data[:, -1] == 5][:,10])


for quality in np.unique(wine_data[:, -1]):
    avg_alcohol = np.mean(wine_data[wine_data[:, -1] == quality][:, 10])
    print(f"Quality {int(quality)}: Avg Alcohol = {avg_alcohol:.2f}")






alcohol = wine_data[:, 10]
quality = wine_data[:, -1]
correlation = np.corrcoef(alcohol, quality)[0, 1]
print("Correlation between alcohol and quality:", correlation)






# Select relevant columns
features = wine_data[:, [10, 9, 1]]

# Assign weights: high alcohol is good, low volatile acidity is good
weights = np.array([0.4, 0.3, -0.3])

# Compute custom wine score
scores = features @ weights
print("Wine scores (first 5):", scores[:5])






import numpy as np

# Example arrays
matrixA = np.array([[4, 7, 2, 5],
                    [6, 3, 8, 1],
                    [0, 9, 2, 6]])

matrixB = np.array([[14, 11, 16, 12],
                    [13, 19, 10, 15],
                    [21, 14, 18, 13]])

# matrix sum
print("# maatrix sum\n", matrixA + matrixB)

# Subtract arrays
print("\n# Subtract arrays\n", matrixB - matrixA)

# Add a scalar
print("# Add a scalar\n", matrixA + 2)


# Divide by scalar
print("\n# Divide by scalar\n", matrixA / 2)

# Elementwise multiplication
print("\n# Elementwise multiplication\n", matrixA * matrixB)

# Modulus with scalar
print("\n# Modulus with scalar\n", matrixA % 3)












a = np.array([1, 2, 3])
b = 10
print(a + b)





A = np.array([[1, 2, 3],

              [4, 5, 6]])

B = np.array([10, 20, 30])
print(A + B)
#Here, B is broadcasted over each row of A





matrixA = np.array([[4, 7, 2, 5],
                    [6, 3, 8, 1],
                    [0, 9, 2, 6]])
vectorC = np.array([2, 4, 6, 8])

print("matrixA.shape:", matrixA.shape)
print("vectorC.shape:", vectorC.shape)
print("\n# Broadcasting add\n", matrixA + vectorC)

vectorD = np.array([5, 7])
# This will error:
try:
    matrixA + vectorD
except Exception as e:
    print("\n# Broadcasting error:", e)



A = np.array([[1, 2, 3],

              [4, 5, 6]])

B = np.array([[10],

              [20]])
print(A + B)



a = np.array([1, 2, 3])
b = np.array([1, 2])
a + b  # This will raise an error because their shapes are not compatible!


A = np.array([[1],

              [2],

               [3]])   # Shape (3,1)
B = np.array([10, 20, 30])      # Shape (3,)
print(A.shape)
print(B.shape)


a = np.array([1, 2, 3])
b = np.array([4, 5])
print(a.shape,b.shape)
a+b


 np.ones((4, 3, 5))


a = np.ones((1, 3, 5))
b = np.ones((4,3,1))
print(a.shape)
print(b.shape)
# Error!
c=a + b

print(c.shape)





X = np.array([[5, 1, 8], [2, 4, 7]])
Y = np.array([[3, 1, 8], [2, 9, 6]])

print("# X == Y\n", X == Y)
print("\n# X >= Y\n", X >= Y)
print("\n# Count not equal:", (X != Y).sum())






cube = np.array([
    [[ 3,  5,  7], [ 8, 10, 12]],
    [[13, 15, 17], [18, 20, 22]],
    [[23, 25, 27], [28, 30, 32]]
])

# print("# Shape:", cube.shape)

# Single element
print("\n# cube[2, 1, 0]:", cube[2, 1, 0])

# Subarray using ranges
print("\n# cube[1:, :, 1]:\n", cube[1:, :, 1])

# Mixing indices and ranges
print("\n# cube[1, :, 1:]:\n", cube[1, :, 1:])

# Fewer indices (returns 2D slice)
print("\n# cube[2]:\n", cube[2])






import numpy as np

# All zeros array
zero_grid = np.zeros((4, 2))
print("# All zeros array\n", zero_grid)

# All ones, higher dimension
ones_cube = np.ones((2, 3, 2))
print("\n# All ones (3D)\n", ones_cube)

# Identity matrix
identity = np.eye(4)
print("\n# Identity matrix\n", identity)

# Random vector (0 to 1)
rand_vec = np.random.rand(6)
print("\n# Random vector\n", rand_vec)

# Random matrix, standard normal distribution
rand_matrix = np.random.randn(3, 4)
print("\n# Random matrix (normal dist)\n", rand_matrix)

# Array with all entries set to a fixed value
fixed_arr = np.full((3, 2), 77)
print("\n# All 77s\n", fixed_arr)

# Array with range and step
range_arr = np.arange(5, 50, 7)
print("\n# Range with step\n", range_arr)

# Equally spaced points in an interval
eq_space = np.linspace(2, 18, 9)
print("\n# Evenly spaced in [2,18]\n", eq_space)












import numpy as np


url = "https://archive.ics.uci.edu/ml/machine-learning-databases/wine-quality/winequality-red.csv"

# Note - Numpy cannot handle mixed dtypes which is a limitation solved by pandas

np_data = np.genfromtxt(url, delimiter=";", dtype=float, encoding="utf-8", skip_header = 1,)
print("Data loaded successfully:", np_data)


np_data.shape





# axis=1 -> operate down row (affects each row). (optional here)
# axis=0 -> operate down columns (affects each column). (optional here)
quality_data = np_data[:, 11]
# Used slicing to only get the mean of 12th column
mean_quality =  np.mean(quality_data, axis=0)
print(mean_quality)





largest_PH_Value = np.max(np_data[:,8])
smallest_PH_Value = np.min(np_data[:,8])

print(largest_PH_Value)
print(smallest_PH_Value)





mean_alcohol_content =  np.mean(np_data[:,10])
print(mean_alcohol_content) 

# By default, np.std() uses population standard deviation.
# If you want sample standard deviation (which divides by n-1), use ddof=1:

std_alcohol_content = np.std(np_data[:,10])
print(std_alcohol_content)





unique_quality_ratings = np.unique(np_data[:,11])
print(unique_quality_ratings)





# quality_ratings = np_data[:,11]
# print(quality_ratings)

ratings_equal_to_7 =  np.count_nonzero(np_data[:, 11] == 7)
print(ratings_equal_to_7)





# A boolean mask in NumPy is basically an array of True and False
alcohol_content_data = np_data[:,10]
print(alcohol_content_data)

# boolean mask for alcohol > 10 
mask = alcohol_content_data > 10
print(mask)

# By default counts only True values
count = np.count_nonzero(mask)
print(count)





avg_critic_acid = np.mean(np_data[:,2])
print(avg_critic_acid)





sugar_content =  np_data[:,3]
print(sugar_content)

median_sugar_content  = np.median(sugar_content)
print(median_sugar_content)

sugar_using_percentile = np.percentile(sugar_content , 50)
print(sugar_using_percentile)





print(alcohol_content_data)

upper_quartile = np.percentile(alcohol_content_data, 75)
print(upper_quartile)





# unique values in sorted order
# counts (how many times each unique value appears in arr)
unique, counts = np.unique(np_data[:, 11], return_counts=True)

print(unique) 
print(counts) 

# np.argmax(arr) -> returns the index of the largest value in arr
#so np.argmax(counts) gives the index of the most frequent value
most_common = unique[np.argmax(counts)]

print(most_common)





print(alcohol_content_data)

sorted_alcohol_content_data = np.argsort(alcohol_content_data)[::-1]

# This print the index of smallest value
print(sorted_alcohol_content_data)

# To print the top 5 highest values corresponding to the alcohol_content_data
top_five = alcohol_content_data[sorted_alcohol_content_data[:5]]
print(top_five)





mean_alcohol = np.mean(alcohol_content_data)


print(mean_alcohol)

above_mask = alcohol_content_data >= mean_alcohol
below_mask = alcohol_content_data < mean_alcohol

above_avg_content = np.count_nonzero(above_mask)
below_avg_content = np.count_nonzero(below_mask)

print(f"Alcohol Above Avg content: {above_avg_content}")
print(f"Alcohol Below Avg content: {below_avg_content}")

# Mean quality for each
mean_quality_above = np.mean(quality_data[above_mask])
mean_quality_below = np.mean(quality_data[below_mask])

print(f"Mean Quality (Above Avg Alcohol content): {mean_quality_above}")
print(f"Mean Quality (Below Avg Alcohol content): {mean_quality_below}")





quality_data = np_data[:, 11]
# print(quality_data)

for q in unique_quality_ratings:
    mask = quality_data == q # all wines with quality == q
    avg_alcohol = np.mean(alcohol_content_data[mask])
    print(q, avg_alcohol)






# total acidity = fixed acidity + volatile acidity -> for each wine
# print(np_data.shape)
# print(np_data)

fixed_acidity = np_data[:,0]
volatile_acidity = np_data[:,1]
print(fixed_acidity)
print(volatile_acidity)

total_acidity = fixed_acidity + volatile_acidity
print(total_acidity)

np_data = np.column_stack((np_data, total_acidity))
# print(np_data)

max_index = np.argmax(total_acidity)  # index of max value
max_total_acidity = total_acidity[max_index]
print(max_index)
print(max_total_acidity)

quality = quality_data[442]
print(quality)





print(alcohol_content_data)
print(quality_data)

# used to calculate correlation
correlation_matrix = np.corrcoef(alcohol_content_data, quality_data)
print(correlation_matrix)

pearson_corr = correlation_matrix[0, 1]
print(pearson_corr)





wines_quality = (quality_data > 6) & (alcohol_content_data > 10)
print(np.count_nonzero(wines_quality))





print(np_data.shape)

std_per_column = np.std(np_data, axis=0)
print(std_per_column)

print("col number", np.argmax(std_per_column))





print(mean_quality)
print(volatile_acidity)

high_quality = quality_data >= mean_quality
low_quality =quality_data < mean_quality

# print(high_quality)
# print(low_quality)

# count_high = np.count_nonzero(high_quality)
# count_low = np.count_nonzero(low_quality)

# print(count_high)
# print(count_low)

high_quality_acidity = volatile_acidity[high_quality]
low_quality_acidity = volatile_acidity[low_quality]
# print(high_quality_acidity)

mean_acidity_high = np.mean(high_quality_acidity)
print(" YES HIGH QUALITY WINES HAVE LOWER ACIDITY" ,mean_acidity_high)

mean_acidity_low = np.mean(low_quality_acidity)
print("acidity in low quality wines: ", mean_acidity_low)





# unique_quality_ratings consists of the unique array of ratings
highest_quality_index = np.argmax(quality_data)
print(highest_quality_index)

highest_quality_value = quality_data[highest_quality_index]
print(highest_quality_value)

val = quality_data == highest_quality_value
count = np.count_nonzero(val)
print("Total no of occurences:",count)
