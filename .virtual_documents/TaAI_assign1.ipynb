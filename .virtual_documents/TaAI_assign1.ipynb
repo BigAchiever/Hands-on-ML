


print("Welcome to TaAI placement Batch")





print("practice makes a man perfect")





name = "danish"
print(f"practice makes a man perfect - {name}")





0.2+0.1








str = input("Enter a sentence:")
print(str)

new_str = str.replace(" ", "... ")
print(new_str)





input_str = input()

# Store the first char for comparison 
first_char = input_str[0]

# Start the new string with the first character
new_string = first_char

# Loop through the rest of the characters
for i in range(1, len(input_str)):
    if input_str[i] == first_char:
        new_string += '*'
    else: 
        new_string += input_str[i]

print(new_string)



input_str = input()
seen = set()

# Initialize output with the first character
output = [input_str[0]]
seen.add(input_str[0])

# Loop through remaining characters
for i in range(1, len(input_str)):
    if input_str[i] in seen:
        output.append("*")
    else:
        output.append(input_str[i])
        seen.add(input_str[i])

# Join the list to form final string
final_str = ''.join(output)
print(f"Your new string with duplicates replaced is: {final_str}")






input_one = input()
input_two = input()

# Extract prefixes
prefix_one = input_one[:2]
prefix_two = input_two[:2]

# Extract suffixes
suffix_one = input_one[2:]
suffix_two = input_two[2:]

# Swap prefixes and build new strings
new_one = prefix_two + suffix_one
new_two = prefix_one + suffix_two

# Print result
print(new_one + " " + new_two)





s = input("Enter your sentence: ")

# rfind helps is finding otu the last not word in the sentence
not_index = s.rfind("not") 
bad_index = s.find("bad")
# print(not_index, bad_index)

if bad_index > not_index:
    # s[:not_index] keeps all the previous words before not in the sentence + 
    # adds "good" and skips the words after not and before bad + adds the words after bad
    new_str = s[:not_index] + "good" + s[bad_index + 3:] #+3 cuz length of bad is 3
print(new_str)





# to remove all the vowels from the string
s = input("Enter your sentence: ")
vowels = ["a", "e", "i", "o", "u"]

new_str = ""

for char in s:
    if char not in vowels:
        new_str += char

print(new_str)


# to remove 50% of the viwels from the string
s = input("Enter your sentence: ")
vowels = ['a', 'e', 'i', 'o', 'u', 'A', 'E', 'I', 'O', 'U']
vowels_count = 0
removed_vowels = 0

#Count vowels
for char in s:
    if char in vowels:
        vowels_count += 
        
# print( vowels_count)
vowels_to_remove = vowels_count // 2
# print( vowels_to_remove)

# Build new string
new_str = ""
for char in s:
    if char in vowels and removed_vowels < vowels_to_remove:
        removed_vowels += 1  
        continue # Skip this vowel
    new_str += char

print("Vowel-stripped string:", new_str)








a = [5,6,7, 8,9]
print(a)
b = a
a[0] = 1
print(a)
print(b)





c = [5,6,7, 8,9]

def func(input_list):
    input_list[2] = 11
    return input_list

d = func(a)
print("list c:", c)
print("list d:", d)





print(id(a))
print(id(b))





import copy

# Shallow copy with a flat list
a = [5, 6, 7, 8, 9]
b = a.copy()  # Creates a shallow copy
b[3] = 10     # Modify element in the copied list

print("Flat list copy:")
print("Original a:", a)
print("Modified b:", b)
print("IDs - a:", id(a), "| b:", id(b))  # Different IDs 

print("\n" + "-"*50 + "\n")

#  Shallow copy with a nested list
c = [5, 6, 7, 8, 9, [1, 2, 3]]
d = c.copy()  # Shallow copy

d[5][0] = 10  # Mutate nested list in the copied list

print("Shallow copy with nested list:")
print("Original c:", c)  # Also changed! 
print("Modified d:", d)
print("IDs - c:", id(c), "| d:", id(d))        # Different top-level lists
print("IDs - c[5]:", id(c[5]), "| d[5]:", id(d[5]))  # Same nested list 

print("\n" + "-"*50 + "\n")

# Deep copy with nested list
e = copy.deepcopy(c)  
e[5][0] = 4           # Modify nested list in the deep copy

print("Deep copy with nested list:")
print("Original c:", c)  # Unchanged 
print("Deep copied e:", e)
print("IDs - c:", id(c), "| e:", id(e))        # Different  lists
print("IDs - c[5]:", id(c[5]), "| e[5]:", id(e[5]))  # Different nested lists 






 # Using this method we can only take inputs as strings in the list
# input_list = input("Enter elements separated by space: ")
# user_list = input_list.split()
# print("List:", user_list)   

# For numerical inputs
input_list = list(map(int, input("Enter the numbers in the list: ").split()))
print("Original list:", input_list)

# first element will be always unique
unique_list = [input_list[0]] 

for i in range(1, len(input_list)):  # from second element
    if input_list[i] != unique_list[-1]:  # -1 to compare with last added element
        unique_list.append(input_list[i])

print("Collapsed list:", unique_list)







# def linear_merge(list1, list2):
#     merged_list  = []
#     for i in range(0, len(list1)):
#         merged_list.append(list1[i])
#     for j in range(0, len(list2)):
#         merged_list.append(list2[j])
#     merged_list.sort()
        
#     return merged_list

# Time complexity: O(m+n)O(log(n))


def linear_merge(list1, list2):
    merged_list = []
    i, j = 0, 0
    
    while i < len(list1) and j < len(list2):
        # comparing for larger letter
        if list1[i] <= list2[j]: 
            merged_list.append(list1[i])
            i += 1
        else:
            merged_list.append(list2[j])
            j += 1

    # Append remaining elements as the lists are already sorted, .extend() is used to append all the left elements
    merged_list.extend(list1[i:])
    merged_list.extend(list2[j:])

    return merged_list

# TIme complexity: O(n) Perfect


# Using heapq library

import heapq
def linear_merge(list1, list2):
    merged_list = []
    merged_list = list(heapq.merge(list1, list2))
    return merged_list 





def test(got, expected):
  if got == expected:
    prefix = ' OK '
  else:
    prefix = '  X '
  print('%s got: %s expected: %s' % (prefix, repr(got), repr(expected)))


test(linear_merge(['aa', 'xx', 'zz'], ['bb', 'cc']),
    ['aa', 'bb', 'cc', 'xx', 'zz'])
test(linear_merge(['aa', 'xx'], ['bb', 'cc', 'zz']),
    ['aa', 'bb', 'cc', 'xx', 'zz'])
test(linear_merge(['aa', 'aa'], ['aa', 'bb', 'bb']),
    ['aa', 'aa', 'aa', 'bb', 'bb'])





n = int(input("How many tuples? "))
list_of_tuples = []
for i in range(n):
    a, b = input("Enter tuple (a b): ").split()
    list_of_tuples.append((int(a), int(b)))

def tuples_list_sum(tuples_list):
    new_dict = {}
    for a, b in tuples_list:
            new_dict[(a, b)] = a + b
    return new_dict

dictionary = tuples_list_sum(list_of_tuples)
print(dictionary)





n = int(input("How many items? "))
my_dict = {input("Name: "): int(input("Score: ")) for elem in range(n)}
print(my_dict)




































def product_quantities(sales):
    quantities = {}
    for sale in sales:
        _, product, qty, _ = sale
        quantities[product] = qty
    return quantities

















def word_frequencies(words_list):
    freq = {}
    for words in words_list:
        for word in words:
            freq[word] = 1
    return freq





def most_common_word(freq):
    return max(freq, key=freq.get)





def add_salary_per_age(data):
    for row in data:
        row['salary_per_age'] = row['salary'] / row['age']











def create_X_y(data):
    X = []
    y = []
    for row in data:
        X.append([row['age'], row['department']])
        y.append(row['salary'])
    return X, y





















