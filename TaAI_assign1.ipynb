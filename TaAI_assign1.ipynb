{
 "cells": [
  {
   "cell_type": "markdown",
   "metadata": {
    "id": "FIT_GPDCqbh8"
   },
   "source": [
    "#TAAI Machine Learning Hands on Course\n",
    "[Course Link](https://www.taai.live/learn/ML-Hands-on-Course)\n",
    "\n",
    "##Instructor - Manoj Kumar\n",
    "\n",
    "[Linkdin](https://www.linkedin.com/in/manoj-choudhary-4bb89a214/)"
   ]
  },
  {
   "cell_type": "code",
   "execution_count": 1,
   "metadata": {
    "colab": {
     "base_uri": "https://localhost:8080/"
    },
    "id": "X2lhCn7VMmoP",
    "outputId": "54c15b1d-b1a1-46f6-ae20-502cf08af178"
   },
   "outputs": [
    {
     "name": "stdout",
     "output_type": "stream",
     "text": [
      "Welcome to TaAI placement Batch\n"
     ]
    }
   ],
   "source": [
    "print(\"Welcome to TaAI placement Batch\")"
   ]
  },
  {
   "cell_type": "markdown",
   "metadata": {
    "id": "uzuWhdsgMrox"
   },
   "source": [
    "Print any quote of a person which you like the most. The output should look like A. P. J. Abdul Kalam once said \"You have to dream before your dreams can come true.\""
   ]
  },
  {
   "cell_type": "code",
   "execution_count": 4,
   "metadata": {
    "id": "dWkC1k60ru_J"
   },
   "outputs": [
    {
     "name": "stdout",
     "output_type": "stream",
     "text": [
      "practice makes a man perfect\n"
     ]
    }
   ],
   "source": [
    "print(\"practice makes a man perfect\")"
   ]
  },
  {
   "cell_type": "markdown",
   "metadata": {
    "id": "Um7Q6PmhOIdh"
   },
   "source": [
    "Now assign the any variable name to the name of the person and print the whole sentence again using f-strings."
   ]
  },
  {
   "cell_type": "code",
   "execution_count": 8,
   "metadata": {
    "id": "NkIDFPvKOsaA"
   },
   "outputs": [
    {
     "name": "stdout",
     "output_type": "stream",
     "text": [
      "practice makes a man perfect - danish\n"
     ]
    }
   ],
   "source": [
    "name = \"danish\"\n",
    "print(f\"practice makes a man perfect - {name}\")"
   ]
  },
  {
   "cell_type": "markdown",
   "metadata": {
    "id": "4qTOkqWoOs-u"
   },
   "source": [
    "Quick math! What's 0.2 + 0.1? Easy, right? Now try it in Python.\n",
    "Surprised? 😲 Why do you think that happened?"
   ]
  },
  {
   "cell_type": "code",
   "execution_count": null,
   "metadata": {
    "colab": {
     "base_uri": "https://localhost:8080/"
    },
    "id": "pJjsE5H7PZpf",
    "outputId": "18f1ea9e-3259-4f99-a90b-cba5e77e63a7"
   },
   "outputs": [
    {
     "data": {
      "text/plain": [
       "0.30000000000000004"
      ]
     },
     "execution_count": 1,
     "metadata": {},
     "output_type": "execute_result"
    }
   ],
   "source": [
    "0.2+0.1"
   ]
  },
  {
   "cell_type": "markdown",
   "metadata": {
    "id": "QEksbtZ0RAJS"
   },
   "source": [
    "# **Strings**"
   ]
  },
  {
   "cell_type": "markdown",
   "metadata": {
    "id": "aNJ-eI5wRDPo"
   },
   "source": [
    "Just like we slow down or speed up a Youtube video when watching a lecture, let’s do the same… but with text! 🐢🎬\n",
    "\n",
    "Write a Python program that simulates “slow playback mode” for sentences. It should take a sentence from the user and print it back with a dramatic pause (represented using ...) between each word\n",
    "\n",
    "user_input : \"Hello! Welcome to Linear Algebra Course \"\n",
    "\n",
    "output : \"Hello! ... Welcome ... to ... Linear ... Algebra ... Course \"\n",
    "\n",
    "\n",
    "The cell should stops running when user types q."
   ]
  },
  {
   "cell_type": "code",
   "execution_count": 24,
   "metadata": {
    "id": "Nvh2hgsET7vN"
   },
   "outputs": [
    {
     "name": "stdin",
     "output_type": "stream",
     "text": [
      "Enter a sentence: Hello! Welcome to Linear Algebra Course\n"
     ]
    },
    {
     "name": "stdout",
     "output_type": "stream",
     "text": [
      "Hello! Welcome to Linear Algebra Course\n",
      "Hello!... Welcome... to... Linear... Algebra... Course\n"
     ]
    }
   ],
   "source": [
    "str = input(\"Enter a sentence:\")\n",
    "print(str)\n",
    "\n",
    "new_str = str.replace(\" \", \"... \")\n",
    "print(new_str)"
   ]
  },
  {
   "cell_type": "markdown",
   "metadata": {
    "id": "nM_Zm08GFtpQ"
   },
   "source": [
    "Given a string s of length at least 1, return a new string where all occurrences of the first character in the string have been replaced with '*', except for the first occurrence itself.\n",
    "\n",
    "You must preserve the first character as-is.\n",
    "\n",
    "All subsequent occurrences of that character should be replaced.\n",
    "\n",
    "Example:\n",
    "\n",
    "Input: \"babble\"\n",
    "\n",
    "Output: \"ba**le\""
   ]
  },
  {
   "cell_type": "code",
   "execution_count": 70,
   "metadata": {
    "id": "izdWwPfJF1jx"
   },
   "outputs": [
    {
     "name": "stdin",
     "output_type": "stream",
     "text": [
      " hellhlo\n"
     ]
    },
    {
     "name": "stdout",
     "output_type": "stream",
     "text": [
      "hell*lo\n"
     ]
    }
   ],
   "source": [
    "input_str = input()\n",
    "\n",
    "# Store the first char for comparison \n",
    "first_char = input_str[0]\n",
    "\n",
    "# Start the new string with the first character\n",
    "new_string = first_char\n",
    "\n",
    "# Loop through the rest of the characters\n",
    "for i in range(1, len(input_str)):\n",
    "    if input_str[i] == first_char:\n",
    "        new_string += '*'\n",
    "    else: \n",
    "        new_string += input_str[i]\n",
    "\n",
    "print(new_string)\n"
   ]
  },
  {
   "cell_type": "code",
   "execution_count": 80,
   "metadata": {},
   "outputs": [
    {
     "name": "stdin",
     "output_type": "stream",
     "text": [
      " banana\n"
     ]
    },
    {
     "name": "stdout",
     "output_type": "stream",
     "text": [
      "Your new string with duplicates replaced is: ban***\n"
     ]
    }
   ],
   "source": [
    "input_str = input()\n",
    "seen = set()\n",
    "\n",
    "# Initialize output with the first character\n",
    "output = [input_str[0]]\n",
    "seen.add(input_str[0])\n",
    "\n",
    "# Loop through remaining characters\n",
    "for i in range(1, len(input_str)):\n",
    "    if input_str[i] in seen:\n",
    "        output.append(\"*\")\n",
    "    else:\n",
    "        output.append(input_str[i])\n",
    "        seen.add(input_str[i])\n",
    "\n",
    "# Join the list to form final string\n",
    "final_str = ''.join(output)\n",
    "print(f\"Your new string with duplicates replaced is: {final_str}\")\n"
   ]
  },
  {
   "cell_type": "markdown",
   "metadata": {
    "id": "zXijXpbEHVhV"
   },
   "source": [
    "Given two strings a and b, each of length 2 or more, return a single string formatted as \"a,b\", where:\n",
    "\n",
    "The first two characters of each string are swapped with the other.\n",
    "\n",
    "The rest of the characters in each string remain unchanged.\n",
    "\n",
    "Examples:\n",
    "\n",
    "**Input:** 'mix', 'pod'       **Output:** 'pox mid'\n",
    "\n",
    "**Input:** 'dog', 'dinner'  **Output:** 'dig donner'"
   ]
  },
  {
   "cell_type": "code",
   "execution_count": 89,
   "metadata": {
    "id": "TbY1zk8fIZ6i"
   },
   "outputs": [
    {
     "name": "stdin",
     "output_type": "stream",
     "text": [
      " mix\n",
      " pod\n"
     ]
    },
    {
     "name": "stdout",
     "output_type": "stream",
     "text": [
      "pox\n",
      "mid\n"
     ]
    }
   ],
   "source": [
    "input_one = input()\n",
    "input_two = input()\n",
    "\n",
    "# Extract prefixes\n",
    "prefix_one = input_one[:2]\n",
    "prefix_two = input_two[:2]\n",
    "\n",
    "# Extract suffixes\n",
    "suffix_one = input_one[2:]\n",
    "suffix_two = input_two[2:]\n",
    "\n",
    "# Swap prefixes and build new strings\n",
    "new_one = prefix_two + suffix_one\n",
    "new_two = prefix_one + suffix_two\n",
    "\n",
    "# Print result\n",
    "print(new_one + \" \" + new_two)"
   ]
  },
  {
   "cell_type": "markdown",
   "metadata": {
    "id": "F_MObVZQIROR"
   },
   "source": [
    "Given a string s, identify the first occurrence of the substrings 'not' and 'bad'.If 'bad' appears after 'not', replace the entire substring from 'not' up to and including 'bad' with the word 'good'.\n",
    "\n",
    "Otherwise, return the string unchanged.\n",
    "\n",
    "Return the modified string.\n",
    "\n",
    "Examples:\n",
    "\n",
    "Input: 'This dinner is not that bad!'\n",
    "Output: 'This dinner is good!'\n",
    "\n",
    "Input: 'The weather is not bad at all'\n",
    "Output: 'The weather is good at all'\n",
    "\n",
    "Input: 'You should not go there, it’s not a bad place.'\n",
    "Output: 'You should not go there, it’s good place.'"
   ]
  },
  {
   "cell_type": "code",
   "execution_count": 120,
   "metadata": {},
   "outputs": [
    {
     "name": "stdin",
     "output_type": "stream",
     "text": [
      "Enter your sentence:  You should not go there, it’s not a bad place.\n"
     ]
    },
    {
     "name": "stdout",
     "output_type": "stream",
     "text": [
      "30 36\n",
      "You should not go there, it’s good place.\n"
     ]
    }
   ],
   "source": [
    "s = input(\"Enter your sentence: \")\n",
    "\n",
    "# rfind helps is finding otu the last not word in the sentence\n",
    "not_index = s.rfind(\"not\") \n",
    "bad_index = s.find(\"bad\")\n",
    "# print(not_index, bad_index)\n",
    "\n",
    "if bad_index > not_index:\n",
    "    # s[:not_index] keeps all the previous words before not in the sentence + \n",
    "    # adds \"good\" and skips the words after not and before bad + adds the words after bad\n",
    "    new_str = s[:not_index] + \"good\" + s[bad_index + 3:] #+3 cuz length of bad is 3\n",
    "print(new_str)"
   ]
  },
  {
   "cell_type": "markdown",
   "metadata": {
    "id": "OS-VobbdUaw3"
   },
   "source": [
    "\"Ths tsk wll reqir you t rmove vwels frm a txt.\" Hopefully you are able to read the above string as - \"This task will require you to remove vowels from a text.\" This is sometimes fascinating. Our brains can fill in the vowels in a string quite easily. In this task write a script/code which:\n",
    "\n",
    "takes user input as a string\n",
    "remove vowels from the string.\n",
    "\n",
    "Not all vowels should be removed but only 50%. Choose which ones to remove based on what you think makes more sense.\n",
    "\n",
    "output the vowel stripped string"
   ]
  },
  {
   "cell_type": "code",
   "execution_count": 128,
   "metadata": {
    "id": "L1bqMBCxW8vi"
   },
   "outputs": [
    {
     "name": "stdin",
     "output_type": "stream",
     "text": [
      "Enter your sentence:  You should not go there, it’s not a bad place.\n"
     ]
    },
    {
     "name": "stdout",
     "output_type": "stream",
     "text": [
      "String without vowels: Y shld nt g thr, t’s nt  bd plc.\n"
     ]
    }
   ],
   "source": [
    "# to remove all the vowels from the string\n",
    "s = input(\"Enter your sentence: \")\n",
    "vowels = [\"a\", \"e\", \"i\", \"o\", \"u\"]\n",
    "\n",
    "new_str = \"\"\n",
    "\n",
    "for char in s:\n",
    "    if char not in vowels:\n",
    "        new_str += char\n",
    "\n",
    "print(new_str)"
   ]
  },
  {
   "cell_type": "code",
   "execution_count": 141,
   "metadata": {},
   "outputs": [
    {
     "name": "stdin",
     "output_type": "stream",
     "text": [
      "Enter your sentence:  You should not go there, it’s not a bad place.\n"
     ]
    },
    {
     "name": "stdout",
     "output_type": "stream",
     "text": [
      "Vowels to remove: 7\n",
      "Vowel-stripped string: Y shld nt g thre, it’s not a bad place.\n"
     ]
    }
   ],
   "source": [
    "# to remove 50% of the viwels from the string\n",
    "s = input(\"Enter your sentence: \")\n",
    "vowels = ['a', 'e', 'i', 'o', 'u', 'A', 'E', 'I', 'O', 'U']\n",
    "vowels_count = 0\n",
    "removed_vowels = 0\n",
    "\n",
    "#Count vowels\n",
    "for char in s:\n",
    "    if char in vowels:\n",
    "        vowels_count += \n",
    "        \n",
    "# print( vowels_count)\n",
    "vowels_to_remove = vowels_count // 2\n",
    "# print( vowels_to_remove)\n",
    "\n",
    "# Build new string\n",
    "new_str = \"\"\n",
    "for char in s:\n",
    "    if char in vowels and removed_vowels < vowels_to_remove:\n",
    "        removed_vowels += 1  \n",
    "        continue # Skip this vowel\n",
    "    new_str += char\n",
    "\n",
    "print(\"Vowel-stripped string:\", new_str)"
   ]
  },
  {
   "cell_type": "markdown",
   "metadata": {
    "id": "5QRU6d7JX87t"
   },
   "source": [
    "# **List**"
   ]
  },
  {
   "cell_type": "markdown",
   "metadata": {
    "id": "ipZ6w1VcX7Rx"
   },
   "source": [
    "\n",
    "How about copying one list to another?"
   ]
  },
  {
   "cell_type": "code",
   "execution_count": null,
   "metadata": {
    "colab": {
     "base_uri": "https://localhost:8080/"
    },
    "id": "aVrOYgArYBSz",
    "outputId": "744111d4-d4d4-4f03-9f47-7f6ae9613514"
   },
   "outputs": [
    {
     "name": "stdout",
     "output_type": "stream",
     "text": [
      "[5, 6, 7, 8, 9]\n",
      "[1, 6, 7, 8, 9]\n",
      "[1, 6, 7, 8, 9]\n"
     ]
    }
   ],
   "source": [
    "a = [5,6,7, 8,9]\n",
    "print(a)\n",
    "b = a\n",
    "a[0] = 1\n",
    "print(a)\n",
    "print(b)"
   ]
  },
  {
   "cell_type": "markdown",
   "metadata": {
    "id": "OMUw5yExYTIg"
   },
   "source": [
    "Oops, why did b change? Let's see another case."
   ]
  },
  {
   "cell_type": "code",
   "execution_count": null,
   "metadata": {
    "colab": {
     "base_uri": "https://localhost:8080/"
    },
    "id": "ei8A6IkrYYcL",
    "outputId": "9ae23e23-90f0-4d3b-919f-7ac2c74b6db4"
   },
   "outputs": [
    {
     "name": "stdout",
     "output_type": "stream",
     "text": [
      "list a: [5, 6, 11, 8, 9]\n",
      "list b: [5, 6, 11, 8, 9]\n"
     ]
    }
   ],
   "source": [
    "c = [5,6,7, 8,9]\n",
    "\n",
    "def func(input_list):\n",
    "    input_list[2] = 11\n",
    "    return input_list\n",
    "\n",
    "d = func(a)\n",
    "print(\"list c:\", c)\n",
    "print(\"list d:\", d)"
   ]
  },
  {
   "cell_type": "markdown",
   "metadata": {
    "id": "7ipODcsDY3AH"
   },
   "source": [
    "This happens because, in both cases above, the new variable b actually points to the same memory location as a. So even though it looks like we’ve created a new variable, b is just a reference to the original list a—it doesn’t occupy separate memory. You can confirm this by using Python’s built-in **id()** function. Try it out in the cell below!"
   ]
  },
  {
   "cell_type": "code",
   "execution_count": 155,
   "metadata": {
    "id": "NEIeVhNeYef1"
   },
   "outputs": [
    {
     "name": "stdout",
     "output_type": "stream",
     "text": [
      "2776050877760\n",
      "2776050877760\n"
     ]
    }
   ],
   "source": [
    "print(id(a))\n",
    "print(id(b))"
   ]
  },
  {
   "cell_type": "markdown",
   "metadata": {
    "id": "HAW0rxNKZN5O"
   },
   "source": [
    "How do we fix this? 🤔\n",
    "We can use the copy module to help out! In the cell below, import the copy package and use the **copy()** function to create a separate copy of the list.\n",
    "\n",
    "But wait - there's a twist! 😮\n",
    "If your list contains another list inside it (a nested list), **copy()** won't fully solve the problem. Show this behavior too.\n",
    "\n",
    "Finally, use the **deepcopy()** function from the same module to completely resolve the issue. It's the real hero when things get deeply nested!"
   ]
  },
  {
   "cell_type": "code",
   "execution_count": 177,
   "metadata": {
    "id": "lEdYTKHwZNY9"
   },
   "outputs": [
    {
     "name": "stdout",
     "output_type": "stream",
     "text": [
      "Flat list copy:\n",
      "Original a: [5, 6, 7, 8, 9]\n",
      "Modified b: [5, 6, 7, 10, 9]\n",
      "IDs - a: 2776051652928 | b: 2776051665536\n",
      "\n",
      "--------------------------------------------------\n",
      "\n",
      "Shallow copy with nested list:\n",
      "Original c: [5, 6, 7, 8, 9, [10, 2, 3]]\n",
      "Modified d: [5, 6, 7, 8, 9, [10, 2, 3]]\n",
      "IDs - c: 2776051662720 | d: 2776051638592\n",
      "IDs - c[5]: 2776051643968 | d[5]: 2776051643968\n",
      "\n",
      "--------------------------------------------------\n",
      "\n",
      "Deep copy with nested list:\n",
      "Original c: [5, 6, 7, 8, 9, [10, 2, 3]]\n",
      "Deep copied e: [5, 6, 7, 8, 9, [4, 2, 3]]\n",
      "IDs - c: 2776051662720 | e: 2776051642432\n",
      "IDs - c[5]: 2776051643968 | e[5]: 2776051221696\n"
     ]
    }
   ],
   "source": [
    "import copy\n",
    "\n",
    "# Shallow copy with a flat list\n",
    "a = [5, 6, 7, 8, 9]\n",
    "b = a.copy()  # Creates a shallow copy\n",
    "b[3] = 10     # Modify element in the copied list\n",
    "\n",
    "print(\"Flat list copy:\")\n",
    "print(\"Original a:\", a)\n",
    "print(\"Modified b:\", b)\n",
    "print(\"IDs - a:\", id(a), \"| b:\", id(b))  # Different IDs \n",
    "\n",
    "print(\"\\n\" + \"-\"*50 + \"\\n\")\n",
    "\n",
    "#  Shallow copy with a nested list\n",
    "c = [5, 6, 7, 8, 9, [1, 2, 3]]\n",
    "d = c.copy()  # Shallow copy\n",
    "\n",
    "d[5][0] = 10  # Mutate nested list in the copied list\n",
    "\n",
    "print(\"Shallow copy with nested list:\")\n",
    "print(\"Original c:\", c)  # Also changed! \n",
    "print(\"Modified d:\", d)\n",
    "print(\"IDs - c:\", id(c), \"| d:\", id(d))        # Different top-level lists\n",
    "print(\"IDs - c[5]:\", id(c[5]), \"| d[5]:\", id(d[5]))  # Same nested list \n",
    "\n",
    "print(\"\\n\" + \"-\"*50 + \"\\n\")\n",
    "\n",
    "# Deep copy with nested list\n",
    "e = copy.deepcopy(c)  \n",
    "e[5][0] = 4           # Modify nested list in the deep copy\n",
    "\n",
    "print(\"Deep copy with nested list:\")\n",
    "print(\"Original c:\", c)  # Unchanged \n",
    "print(\"Deep copied e:\", e)\n",
    "print(\"IDs - c:\", id(c), \"| e:\", id(e))        # Different  lists\n",
    "print(\"IDs - c[5]:\", id(c[5]), \"| e[5]:\", id(e[5]))  # Different nested lists \n"
   ]
  },
  {
   "cell_type": "markdown",
   "metadata": {
    "id": "NUkcaFqKLAyr"
   },
   "source": [
    "Given a list of numbers, return a new list where any group of adjacent duplicate elements is collapsed into a single occurrence of that element.\n",
    "\n",
    "Only consecutive duplicates should be reduced.\n",
    "\n",
    "You may not use any built-in library functions like itertools.groupby.\n",
    "\n",
    "The original list should remain unmodified if possible.\n",
    "\n",
    "Example:\n",
    "\n",
    "Input: [1, 2, 2, 3, 3, 3, 2, 2, 4]\n",
    "Output: [1, 2, 3, 2, 4]"
   ]
  },
  {
   "cell_type": "code",
   "execution_count": 40,
   "metadata": {
    "id": "FkedAbLyLBzN"
   },
   "outputs": [
    {
     "name": "stdin",
     "output_type": "stream",
     "text": [
      "Enter the numbers in the list:  1 2 1 2 3 4 5\n"
     ]
    },
    {
     "name": "stdout",
     "output_type": "stream",
     "text": [
      "Original list: [1, 2, 1, 2, 3, 4, 5]\n",
      "Collapsed list: [1, 2, 1, 2, 3, 4, 5]\n"
     ]
    }
   ],
   "source": [
    " # Using this method we can only take inputs as strings in the list\n",
    "# input_list = input(\"Enter elements separated by space: \")\n",
    "# user_list = input_list.split()\n",
    "# print(\"List:\", user_list)   \n",
    "\n",
    "# For numerical inputs\n",
    "input_list = list(map(int, input(\"Enter the numbers in the list: \").split()))\n",
    "print(\"Original list:\", input_list)\n",
    "\n",
    "# first element will be always unique\n",
    "unique_list = [input_list[0]] \n",
    "\n",
    "for i in range(1, len(input_list)):  # from second element\n",
    "    if input_list[i] != unique_list[-1]:  # -1 to compare with last added element\n",
    "        unique_list.append(input_list[i])\n",
    "\n",
    "print(\"Collapsed list:\", unique_list)\n",
    "\n"
   ]
  },
  {
   "cell_type": "markdown",
   "metadata": {
    "id": "lWZfeaZ6LCkZ"
   },
   "source": [
    "Given two lists sorted in increasing order, create and return a merged\n",
    "list of all the elements in sorted order. You may modify the passed in lists.Ideally, the solution should work in \"linear\" time, making a single pass of both lists."
   ]
  },
  {
   "cell_type": "code",
   "execution_count": 72,
   "metadata": {
    "id": "Oy1eJhAmLNk1"
   },
   "outputs": [],
   "source": [
    "# def linear_merge(list1, list2):\n",
    "#     merged_list  = []\n",
    "#     for i in range(0, len(list1)):\n",
    "#         merged_list.append(list1[i])\n",
    "#     for j in range(0, len(list2)):\n",
    "#         merged_list.append(list2[j])\n",
    "#     merged_list.sort()\n",
    "        \n",
    "#     return merged_list\n",
    "\n",
    "# Time complexity: O(m+n)O(log(n))"
   ]
  },
  {
   "cell_type": "code",
   "execution_count": 85,
   "metadata": {},
   "outputs": [],
   "source": [
    "def linear_merge(list1, list2):\n",
    "    merged_list = []\n",
    "    i, j = 0, 0\n",
    "    \n",
    "    while i < len(list1) and j < len(list2):\n",
    "        # comparing for larger letter\n",
    "        if list1[i] <= list2[j]: \n",
    "            merged_list.append(list1[i])\n",
    "            i += 1\n",
    "        else:\n",
    "            merged_list.append(list2[j])\n",
    "            j += 1\n",
    "\n",
    "    # Append remaining elements as the lists are already sorted, .extend() is used to append all the left elements\n",
    "    merged_list.extend(list1[i:])\n",
    "    merged_list.extend(list2[j:])\n",
    "\n",
    "    return merged_list\n",
    "\n",
    "# TIme complexity: O(n) Perfect"
   ]
  },
  {
   "cell_type": "code",
   "execution_count": 93,
   "metadata": {},
   "outputs": [],
   "source": [
    "# Using heapq library\n",
    "\n",
    "import heapq\n",
    "def linear_merge(list1, list2):\n",
    "    merged_list = []\n",
    "    merged_list = list(heapq.merge(list1, list2))\n",
    "    return merged_list "
   ]
  },
  {
   "cell_type": "markdown",
   "metadata": {
    "id": "9LaftjTZLM8r"
   },
   "source": [
    "Below is the function to test your linear_merge function."
   ]
  },
  {
   "cell_type": "code",
   "execution_count": 96,
   "metadata": {
    "id": "5u926qoLLp4D"
   },
   "outputs": [
    {
     "name": "stdout",
     "output_type": "stream",
     "text": [
      " OK  got: ['aa', 'bb', 'cc', 'xx', 'zz'] expected: ['aa', 'bb', 'cc', 'xx', 'zz']\n",
      " OK  got: ['aa', 'bb', 'cc', 'xx', 'zz'] expected: ['aa', 'bb', 'cc', 'xx', 'zz']\n",
      " OK  got: ['aa', 'aa', 'aa', 'bb', 'bb'] expected: ['aa', 'aa', 'aa', 'bb', 'bb']\n"
     ]
    }
   ],
   "source": [
    "def test(got, expected):\n",
    "  if got == expected:\n",
    "    prefix = ' OK '\n",
    "  else:\n",
    "    prefix = '  X '\n",
    "  print('%s got: %s expected: %s' % (prefix, repr(got), repr(expected)))\n",
    "\n",
    "\n",
    "test(linear_merge(['aa', 'xx', 'zz'], ['bb', 'cc']),\n",
    "    ['aa', 'bb', 'cc', 'xx', 'zz'])\n",
    "test(linear_merge(['aa', 'xx'], ['bb', 'cc', 'zz']),\n",
    "    ['aa', 'bb', 'cc', 'xx', 'zz'])\n",
    "test(linear_merge(['aa', 'aa'], ['aa', 'bb', 'bb']),\n",
    "    ['aa', 'aa', 'aa', 'bb', 'bb'])"
   ]
  },
  {
   "cell_type": "markdown",
   "metadata": {
    "id": "R6QTZWbOZirh"
   },
   "source": [
    "Write a function that takes a list of tuples, each containing two integers, and:\n",
    "\n",
    "\n",
    "Creates a dictionary where the tuples are keys and the values are the sum of the tuple’s integers.\n",
    "\n",
    "\n",
    "Uses the first occurrence of any duplicate tuples, ignoring subsequent ones.\n",
    "\n",
    "\n",
    "Returns an empty dictionary if the input list is empty.\n",
    "\n",
    "Example Input: [(1, 2), (3, 4), (1, 2)]\n",
    "\n",
    "Example Output: {(1, 2): 3, (3, 4): 7}"
   ]
  },
  {
   "cell_type": "code",
   "execution_count": 155,
   "metadata": {
    "id": "u5RpVQIEcZY1"
   },
   "outputs": [
    {
     "name": "stdin",
     "output_type": "stream",
     "text": [
      "How many tuples?  2 \n",
      "Enter tuple (a b):  1 2\n",
      "Enter tuple (a b):  2 3\n"
     ]
    },
    {
     "name": "stdout",
     "output_type": "stream",
     "text": [
      "{(1, 2): 3, (2, 3): 5}\n"
     ]
    }
   ],
   "source": [
    "n = int(input(\"How many tuples? \"))\n",
    "list_of_tuples = []\n",
    "for i in range(n):\n",
    "    a, b = input(\"Enter tuple (a b): \").split()\n",
    "    list_of_tuples.append((int(a), int(b)))\n",
    "\n",
    "def tuples_list_sum(tuples_list):\n",
    "    new_dict = {}\n",
    "    for a, b in tuples_list:\n",
    "            new_dict[(a, b)] = a + b\n",
    "    return new_dict\n",
    "\n",
    "dictionary = tuples_list_sum(list_of_tuples)\n",
    "print(dictionary)"
   ]
  },
  {
   "cell_type": "markdown",
   "metadata": {
    "id": "RCbzBPYLcaSd"
   },
   "source": [
    "Write a function that processes a list of dictionaries, where each dictionary contains 'name' and 'score' keys. The function should:\n",
    "\n",
    "\n",
    "Create a new dictionary with unique names as keys and the average of their scores as values.\n",
    "\n",
    "Handle cases where a name appears multiple times by averaging all corresponding scores.\n",
    "\n",
    "Skip entries where the 'score' key is missing or the score is non-numeric, excluding those names from the result if no valid scores exist.\n",
    "\n",
    "Input: [{\"name\": \"Alice\", \"score\": 90}, {\"name\": \"Bob\", \"score\": 80}, {\"name\": \"Alice\", \"score\": \"70\"}, {\"name\": \"Charlie\"}]\n",
    "\n",
    "Output: {\"Alice\": 80.0, \"Bob\": 80.0}"
   ]
  },
  {
   "cell_type": "code",
   "execution_count": 165,
   "metadata": {
    "id": "KzQWkHrXcwVc"
   },
   "outputs": [
    {
     "name": "stdin",
     "output_type": "stream",
     "text": [
      "How many items?  2\n",
      "Name:  alice\n",
      "Score:  40\n",
      "Name:  john\n",
      "Score:  00\n"
     ]
    },
    {
     "name": "stdout",
     "output_type": "stream",
     "text": [
      "{'alice': 40, 'john': 0}\n"
     ]
    }
   ],
   "source": [
    "n = int(input(\"How many items? \"))\n",
    "my_dict = {input(\"Name: \"): int(input(\"Score: \")) for elem in range(n)}\n",
    "print(my_dict)\n"
   ]
  },
  {
   "cell_type": "markdown",
   "metadata": {
    "id": "TzmuSZS3tyRW"
   },
   "source": [
    "In this task you have to take a list of strings and a pattern (a string). You should print a dictionary where the keys are unique strings from the list that contain the pattern (case-insensitive), and the values are the number of times the pattern appears in each string.\n",
    "\n",
    "For example:\n",
    "\n",
    "user_input: [\"hello world\", \"Hello there\", \"hi\", \"HELLO\"], \"lo\"\n",
    "\n",
    "Output: {\"hello world\": 1, \"Hello there\": 1, \"HELLO\": 2}\n",
    "(Note: \"hi\" is excluded because it does not contain \"lo\".)"
   ]
  },
  {
   "cell_type": "code",
   "execution_count": null,
   "metadata": {
    "id": "3DeA8x6TuKp9"
   },
   "outputs": [],
   "source": []
  },
  {
   "cell_type": "markdown",
   "metadata": {
    "id": "oXevI8HSuLO2"
   },
   "source": [
    "Write a Python function that takes a list of lists containing mixed data types. The function should return a flattened list of elements that are either strings or numbers (integers or floats), excluding other types.\n",
    "\n",
    "Input: [[1, \"apple\", 2.5], [True, \"banana\", 3], [4, [5, 6]]]\n",
    "\n",
    "Output: [1, \"apple\", 2.5, \"banana\", 3, 4]"
   ]
  },
  {
   "cell_type": "code",
   "execution_count": null,
   "metadata": {
    "id": "0JKZsIa5ueiq"
   },
   "outputs": [],
   "source": []
  },
  {
   "cell_type": "markdown",
   "metadata": {
    "id": "B9L-HOJ3uffU"
   },
   "source": [
    "Write a Python function that takes a dictionary where keys are strings and values are dictionaries containing numeric values. The function should return a new dictionary where each key is a string from the input, and the value is the key of the maximum numeric value in the inner dictionary, but only if that maximum is positive.\n",
    "\n",
    "For example:\n",
    "\n",
    "Input: {\"a\": {\"x\": 1, \"y\": 2}, \"b\": {\"x\": -1, \"y\": 0}, \"c\": {\"x\": 3, \"y\": 4}}\n",
    "\n",
    "Output: {\"a\": \"y\", \"c\": \"y\"}\n",
    "(Note: \"b\" is excluded because its maximum is 0, not positive.)"
   ]
  },
  {
   "cell_type": "code",
   "execution_count": null,
   "metadata": {
    "id": "J0XDZG2ovOKJ"
   },
   "outputs": [],
   "source": []
  },
  {
   "cell_type": "markdown",
   "metadata": {
    "id": "GenQBJzwvPMj"
   },
   "source": [
    "Write a Python function that takes a 2D list of integers and an integer ( n ). For each sublist, if it contains at least one element greater than ( n ), reverse the sublist; otherwise, double each element. Return the modified 2D list.\n",
    "\n",
    "For example:\n",
    "Input: [[1, 2, 3], [4, 5, 6], [7, 8]], 5\n",
    "\n",
    "Output: [[2, 4, 6], [6, 5, 4], [14, 16]]\n",
    "\n",
    "(Note: The first sublist doubles because no element >5; the second reverses because 6>5; the third doubles because no element >5.)"
   ]
  },
  {
   "cell_type": "code",
   "execution_count": null,
   "metadata": {
    "id": "hQsN1-JVvcJ0"
   },
   "outputs": [],
   "source": []
  },
  {
   "cell_type": "markdown",
   "metadata": {
    "id": "gIbYH5Q-xnM_"
   },
   "source": [
    "You have a list of tuples representing sales: (transaction_id, product, quantity, price).\n",
    "\n",
    "sales = [\n",
    "    (101, 'Laptop', 3, 1200.0),\n",
    "    (102, 'Phone', 5, 800.0),\n",
    "    (103, 'Laptop', 2, 1200.0),\n",
    "]\n",
    "\n",
    "Write a function total_revenue to compute total revenue (quantity * price)."
   ]
  },
  {
   "cell_type": "code",
   "execution_count": null,
   "metadata": {
    "id": "Vlvho1E-xt2y"
   },
   "outputs": [],
   "source": []
  },
  {
   "cell_type": "markdown",
   "metadata": {
    "id": "1LN4WFa5xukX"
   },
   "source": [
    "Create a dictionary with products as keys and total quantities as values. The provided code has an error."
   ]
  },
  {
   "cell_type": "code",
   "execution_count": null,
   "metadata": {
    "id": "hskc9yqox0eH"
   },
   "outputs": [],
   "source": [
    "def product_quantities(sales):\n",
    "    quantities = {}\n",
    "    for sale in sales:\n",
    "        _, product, qty, _ = sale\n",
    "        quantities[product] = qty\n",
    "    return quantities"
   ]
  },
  {
   "cell_type": "markdown",
   "metadata": {
    "id": "z58P38N0x8of"
   },
   "source": [
    "Identify the product with the highest quantity sold."
   ]
  },
  {
   "cell_type": "code",
   "execution_count": null,
   "metadata": {
    "id": "S-AqqRt-x8Ii"
   },
   "outputs": [],
   "source": []
  },
  {
   "cell_type": "markdown",
   "metadata": {
    "id": "Fbk6U0YSyQ2K"
   },
   "source": [
    "**Text Data Cleaning**\n",
    "\n",
    "You have a list of strings representing survey responses:\n",
    "\n",
    "responses = [\n",
    "    \"Excellent service, 5 stars!\",\n",
    "    \"Not good, very slow...\",\n",
    "    \"LOVE the product, amazing!!\",\n",
    "]\n",
    "\n",
    "Write a function split_responses to split each response into words (removing punctuation)"
   ]
  },
  {
   "cell_type": "code",
   "execution_count": null,
   "metadata": {
    "id": "4h_xBk4WyPrx"
   },
   "outputs": [],
   "source": []
  },
  {
   "cell_type": "markdown",
   "metadata": {
    "id": "JLZLIgKyyao2"
   },
   "source": [
    "Create a dictionary of word frequencies across all responses.The provided code has an error."
   ]
  },
  {
   "cell_type": "code",
   "execution_count": null,
   "metadata": {
    "id": "Lgrz9QLKy1cx"
   },
   "outputs": [],
   "source": [
    "def word_frequencies(words_list):\n",
    "    freq = {}\n",
    "    for words in words_list:\n",
    "        for word in words:\n",
    "            freq[word] = 1\n",
    "    return freq"
   ]
  },
  {
   "cell_type": "markdown",
   "metadata": {
    "id": "6q0lzqJky5hJ"
   },
   "source": [
    "Identify the most common word. The provided code has an error."
   ]
  },
  {
   "cell_type": "code",
   "execution_count": null,
   "metadata": {
    "id": "eH3UgcbCy45A"
   },
   "outputs": [],
   "source": [
    "def most_common_word(freq):\n",
    "    return max(freq, key=freq.get)"
   ]
  },
  {
   "cell_type": "markdown",
   "metadata": {
    "id": "_hupsQ-TzGO5"
   },
   "source": [
    "**Feature Engineering with Dictionaries**\n",
    "\n",
    "You have a dataset as a list of dictionaries:\n",
    "\n",
    "data = [\n",
    "    {'id': 1, 'age': 30, 'salary': 60000, 'department': 'Sales'},\n",
    "    {'id': 2, 'age': 25, 'salary': 50000, 'department': 'IT'},\n",
    "    {'id': 3, 'age': 40, 'salary': 70000, 'department': 'Sales'},\n",
    "]\n",
    "\n",
    "\n",
    "Add a feature salary_per_age = salary / age. The provided code has an error."
   ]
  },
  {
   "cell_type": "code",
   "execution_count": null,
   "metadata": {
    "id": "XzjkVoUlzWYF"
   },
   "outputs": [],
   "source": [
    "def add_salary_per_age(data):\n",
    "    for row in data:\n",
    "        row['salary_per_age'] = row['salary'] / row['age']"
   ]
  },
  {
   "cell_type": "markdown",
   "metadata": {
    "id": "VppyKWUdzZ57"
   },
   "source": [
    "Encode department as numerical (e.g., Sales=0, IT=1). Replace department with dept_code"
   ]
  },
  {
   "cell_type": "code",
   "execution_count": null,
   "metadata": {
    "id": "aWU29Gq_zg1S"
   },
   "outputs": [],
   "source": []
  },
  {
   "cell_type": "markdown",
   "metadata": {
    "id": "heudqEd2zh1v"
   },
   "source": [
    "Create X ([age, dept_code]) and y (salary). The provided code has an error."
   ]
  },
  {
   "cell_type": "code",
   "execution_count": null,
   "metadata": {
    "id": "rsE5IMrbztCV"
   },
   "outputs": [],
   "source": [
    "def create_X_y(data):\n",
    "    X = []\n",
    "    y = []\n",
    "    for row in data:\n",
    "        X.append([row['age'], row['department']])\n",
    "        y.append(row['salary'])\n",
    "    return X, y"
   ]
  },
  {
   "cell_type": "markdown",
   "metadata": {
    "id": "eIpvvz22N1Xk"
   },
   "source": [
    "You are given a text file and need to implement two functions to process the words within the file. Both functions should ignore the case of the words, treating 'The' and 'the' as the same word. You should also handle punctuation properly. For simplicity, let's assume that words are defined as any sequence of letters and numbers, and punctuation is anything that isn't a letter or number.\n",
    "\n"
   ]
  },
  {
   "cell_type": "markdown",
   "metadata": {
    "id": "dkgZ7Ue4N4M0"
   },
   "source": [
    "Implement a function print_words(filename) that:\n",
    "\n",
    "Reads the file specified by filename.\n",
    "\n",
    "Counts how often each word appears in the text.\n",
    "\n",
    "Prints the words in alphabetical order, along with their respective counts in the following format:\n",
    "\n",
    "word1 count1\n",
    "\n",
    "word2 count2\n",
    "\n",
    "...\n",
    "\n",
    "Words should be treated case-insensitively (i.e., 'The' and 'the' are counted as the same word).\n",
    "\n",
    "Punctuation should be ignored when counting words, and words should be stored in lowercase.\n",
    "\n",
    "**Additional Constraints:**\n",
    "\n",
    "Handle any edge cases, such as:\n",
    "\n",
    "An empty file (should output nothing).\n",
    "\n",
    "Words containing digits should be counted properly.\n",
    "\n",
    "Files with punctuation (punctuation should be ignored when counting words).\n"
   ]
  },
  {
   "cell_type": "markdown",
   "metadata": {
    "id": "6jxNY0LnUimX"
   },
   "source": [
    "**Instead of file you can take the user input. Sample text for user input is given below:**\n",
    "\n",
    "The year 2024 was quite eventful. People said, \"It was the best of times, it was the worst of times.\"\n",
    "\n",
    "Some believed the events were not so bad—others said they were not that good either!\n",
    "\n",
    "Meanwhile, code123 and Code123 were both discussed frequently in forums, posts, and blogs.\n",
    "\n",
    "In the end, it's not about what happened, but how we reacted to what happened.\n",
    "\n",
    "Was it not a bad outcome? Or not bad at all? Depends on perspective.\n",
    "\n",
    "THE the ThE tHe — all the same!\n"
   ]
  },
  {
   "cell_type": "code",
   "execution_count": null,
   "metadata": {
    "id": "-MPNj5GwORXI"
   },
   "outputs": [],
   "source": []
  },
  {
   "cell_type": "markdown",
   "metadata": {
    "id": "wWMw4mtjOR1C"
   },
   "source": [
    "Implement a function top_20(filename) that:\n",
    "\n",
    "Reads the file specified by filename.\n",
    "\n",
    "Counts the frequency of each word, similar to the print_words() function.\n",
    "\n",
    "Prints the top 20 most common words along with their counts, sorted in descending order of frequency.\n",
    "\n",
    "The output format should be:\n",
    "\n",
    "word1 count1\n",
    "\n",
    "word2 count2\n",
    "\n",
    "...\n",
    "\n",
    "The most common word should appear first, and the next most common after that.\n",
    "\n",
    "In case of ties in frequency, sort the words alphabetically.\n",
    "\n",
    "If there are fewer than 20 words in total, just print all of them."
   ]
  },
  {
   "cell_type": "code",
   "execution_count": null,
   "metadata": {
    "id": "LV7y9xDVOmsc"
   },
   "outputs": [],
   "source": []
  },
  {
   "cell_type": "markdown",
   "metadata": {
    "id": "KBwa2_HM37sK"
   },
   "source": []
  }
 ],
 "metadata": {
  "colab": {
   "provenance": []
  },
  "kernelspec": {
   "display_name": "Python 3 (ipykernel)",
   "language": "python",
   "name": "python3"
  },
  "language_info": {
   "codemirror_mode": {
    "name": "ipython",
    "version": 3
   },
   "file_extension": ".py",
   "mimetype": "text/x-python",
   "name": "python",
   "nbconvert_exporter": "python",
   "pygments_lexer": "ipython3",
   "version": "3.12.7"
  }
 },
 "nbformat": 4,
 "nbformat_minor": 4
}
