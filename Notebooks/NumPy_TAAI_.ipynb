{
 "cells": [
  {
   "cell_type": "markdown",
   "metadata": {
    "id": "rH0xy0dDYupb"
   },
   "source": [
    "### What is NumPy?\n",
    "\n",
    "NumPy (short for Numerical Python) is a fundamental package in Python used for scientific computing. It provides support for:\n",
    "\n",
    "#### Key Features:\n",
    "- Works with 1D, 2D, and higher-dimensional arrays\n",
    "- Fast math operations (like sum, mean, etc.)\n",
    "- Supports matrix and linear algebra\n",
    "\n"
   ]
  },
  {
   "cell_type": "markdown",
   "metadata": {
    "id": "XkhXxMt44UWl"
   },
   "source": [
    "# Using NumPy for Smart Fitness Score Calculation\n",
    "\n",
    "## 🏋️ Scenario: Fitness Performance Scoring\n",
    "\n",
    "You run a fitness platform that evaluates daily performance using three metrics:\n",
    "- Minutes of exercise\n",
    "- Liters of water consumed\n",
    "- Hours of sleep\n",
    "\n",
    "You want to assign a **daily fitness score** based on how well a user balances these metrics.\n",
    "---\n",
    "\n",
    "##Fitness Score Formula\n",
    "\n",
    "We will use a simple linear formula:\n",
    "\n",
    "score = w1 * exercise + w2 * water + w3 * sleep"
   ]
  },
  {
   "cell_type": "markdown",
   "metadata": {
    "id": "du1SrG844o7U"
   },
   "source": [
    "\n",
    "Where `w1`, `w2`, and `w3` reflect the importance of each metric.\n",
    "\n",
    "---\n",
    "\n",
    "##Define the Weights and Sample Data\n"
   ]
  },
  {
   "cell_type": "code",
   "execution_count": 85,
   "metadata": {
    "id": "5kRj-Lgn40V8"
   },
   "outputs": [],
   "source": [
    "# Assigning importance to each factor\n",
    "weights = [0.5, 0.2, 0.3]  # More emphasis on exercise\n",
    "\n",
    "# Sample user data: [exercise_minutes, water_liters, sleep_hours]\n",
    "day1 = [45, 2.0, 6.5]\n",
    "day2 = [30, 1.5, 8.0]\n",
    "day3 = [60, 3.0, 7.0]"
   ]
  },
  {
   "cell_type": "code",
   "execution_count": null,
   "metadata": {
    "id": "WpzUTnMa6NoB"
   },
   "outputs": [],
   "source": []
  },
  {
   "cell_type": "code",
   "execution_count": 87,
   "metadata": {
    "colab": {
     "base_uri": "https://localhost:8080/"
    },
    "id": "AWBwb-984HbM",
    "outputId": "691284ce-b007-4529-f4d5-f2e9e696f142"
   },
   "outputs": [
    {
     "name": "stdout",
     "output_type": "stream",
     "text": [
      "24.849999999999998\n",
      "17.7\n",
      "32.7\n"
     ]
    }
   ],
   "source": [
    "def compute_score(day_data, weights):\n",
    "    result = 0\n",
    "    for i in range(len(day_data)):\n",
    "        result += day_data[i] * weights[i]\n",
    "    return result\n",
    "\n",
    "# Example usage\n",
    "print(compute_score(day1, weights))  # Output: Fitness score for day1\n",
    "print(compute_score(day2, weights))\n",
    "print(compute_score(day3, weights))\n"
   ]
  },
  {
   "cell_type": "markdown",
   "metadata": {
    "id": "d_X37afuCkON"
   },
   "source": [
    "### using Zip function\n",
    "The zip() function in Python is a built-in function used to combine multiple iterables (like lists, tuples, or strings) element-wise into a single iterable of tuples. It pairs corresponding elements from each input iterable."
   ]
  },
  {
   "cell_type": "code",
   "execution_count": 88,
   "metadata": {
    "colab": {
     "base_uri": "https://localhost:8080/"
    },
    "id": "t27MZYDcCwaz",
    "outputId": "8c303fa1-5cea-4f58-b323-4125d95eb66c"
   },
   "outputs": [
    {
     "name": "stdout",
     "output_type": "stream",
     "text": [
      "[(1, 'a'), (2, 'b'), (3, 'c')]\n"
     ]
    }
   ],
   "source": [
    "list1 = [1, 2, 3]\n",
    "list2 = ['a', 'b', 'c']\n",
    "zipped_result = zip(list1, list2)\n",
    "\n",
    "# Convert the zip object to a list to view the contents\n",
    "print(list(zipped_result))"
   ]
  },
  {
   "cell_type": "code",
   "execution_count": 91,
   "metadata": {
    "colab": {
     "base_uri": "https://localhost:8080/"
    },
    "id": "gOmJ3CqD7Hsv",
    "outputId": "13b92da5-f589-4cf7-e314-5392552ef750"
   },
   "outputs": [
    {
     "name": "stdout",
     "output_type": "stream",
     "text": [
      "[(45, 0.5), (2.0, 0.2), (6.5, 0.3)]\n"
     ]
    }
   ],
   "source": [
    "print(list(zip(day1,weights)))"
   ]
  },
  {
   "cell_type": "code",
   "execution_count": 92,
   "metadata": {
    "colab": {
     "base_uri": "https://localhost:8080/"
    },
    "id": "4AnOhoxyC3wm",
    "outputId": "e4fce95a-0191-4e8f-ce3a-c2fdfe0968e8"
   },
   "outputs": [
    {
     "name": "stdout",
     "output_type": "stream",
     "text": [
      "24.849999999999998\n"
     ]
    }
   ],
   "source": [
    "def compute_score(day_data, weights):\n",
    "    result = 0\n",
    "    for data,w in zip(day_data,weights):\n",
    "        result += data*w\n",
    "\n",
    "    return result\n",
    "\n",
    "# Example usage\n",
    "print(compute_score(day1, weights))"
   ]
  },
  {
   "cell_type": "markdown",
   "metadata": {
    "id": "dDKWo6gf5t5H"
   },
   "source": [
    " ## Now Use NumPy"
   ]
  },
  {
   "cell_type": "code",
   "execution_count": null,
   "metadata": {
    "id": "cqZ18SGG5yMV"
   },
   "outputs": [],
   "source": [
    "import numpy as np\n"
   ]
  },
  {
   "cell_type": "markdown",
   "metadata": {
    "id": "RyAR3M1N51_r"
   },
   "source": [
    "###Convert Lists to Arrays"
   ]
  },
  {
   "cell_type": "code",
   "execution_count": 93,
   "metadata": {
    "id": "928RSwjP5zTv"
   },
   "outputs": [],
   "source": [
    "day1 = np.array([45, 2.0, 6.5])\n",
    "weights = np.array([0.5, 0.2, 0.3])\n"
   ]
  },
  {
   "cell_type": "code",
   "execution_count": 94,
   "metadata": {
    "colab": {
     "base_uri": "https://localhost:8080/"
    },
    "id": "CxeQOZXcdMyK",
    "outputId": "f9c68d3e-3be8-41fc-a2d7-935861e2b0b1"
   },
   "outputs": [
    {
     "data": {
      "text/plain": [
       "numpy.ndarray"
      ]
     },
     "execution_count": 94,
     "metadata": {},
     "output_type": "execute_result"
    }
   ],
   "source": [
    "type(day1)"
   ]
  },
  {
   "cell_type": "code",
   "execution_count": null,
   "metadata": {
    "colab": {
     "base_uri": "https://localhost:8080/"
    },
    "id": "mWPsGmwvdZFc",
    "outputId": "1e16ed9e-cebf-4c03-a4a5-0c7082e06598"
   },
   "outputs": [
    {
     "data": {
      "text/plain": [
       "np.float64(45.0)"
      ]
     },
     "execution_count": 10,
     "metadata": {},
     "output_type": "execute_result"
    }
   ],
   "source": [
    "day1[0]"
   ]
  },
  {
   "cell_type": "code",
   "execution_count": null,
   "metadata": {
    "colab": {
     "base_uri": "https://localhost:8080/"
    },
    "id": "T8RLQezVDfPy",
    "outputId": "25e94128-c90c-47e5-b9ed-b128ce5c6870"
   },
   "outputs": [
    {
     "name": "stdout",
     "output_type": "stream",
     "text": [
      "<class 'float'>\n"
     ]
    }
   ],
   "source": [
    "a=5.0\n",
    "print(type(a))"
   ]
  },
  {
   "cell_type": "code",
   "execution_count": null,
   "metadata": {
    "colab": {
     "base_uri": "https://localhost:8080/"
    },
    "id": "y3x8wSr0588O",
    "outputId": "753618d5-d9f2-4e6a-d793-a39af1353fbc"
   },
   "outputs": [
    {
     "name": "stdout",
     "output_type": "stream",
     "text": [
      "Fitness Score: 24.849999999999998\n"
     ]
    }
   ],
   "source": [
    "score = np.dot(day1, weights)\n",
    "print(\"Fitness Score:\", score)\n"
   ]
  },
  {
   "cell_type": "markdown",
   "metadata": {
    "id": "uf7YCVr_6BJ2"
   },
   "source": [
    "### Or:"
   ]
  },
  {
   "cell_type": "code",
   "execution_count": null,
   "metadata": {
    "colab": {
     "base_uri": "https://localhost:8080/"
    },
    "id": "XlJ7uPC8Eujm",
    "outputId": "3870ebfb-dc44-490f-fe3d-5a766286fb76"
   },
   "outputs": [
    {
     "name": "stdout",
     "output_type": "stream",
     "text": [
      "[22.5   0.4   1.95]\n"
     ]
    }
   ],
   "source": [
    "print(day1*weights)"
   ]
  },
  {
   "cell_type": "code",
   "execution_count": null,
   "metadata": {
    "colab": {
     "base_uri": "https://localhost:8080/"
    },
    "id": "R5LClXWt6DR0",
    "outputId": "dc7d8ecd-cf7e-4e6a-cd37-57195a17fc13"
   },
   "outputs": [
    {
     "data": {
      "text/plain": [
       "np.float64(24.849999999999998)"
      ]
     },
     "execution_count": 26,
     "metadata": {},
     "output_type": "execute_result"
    }
   ],
   "source": [
    "(day1 * weights).sum()\n"
   ]
  },
  {
   "cell_type": "markdown",
   "metadata": {
    "id": "yqwz8mHjFGhh"
   },
   "source": [
    "### Compare performance of Python loop vs NumPy dot product"
   ]
  },
  {
   "cell_type": "code",
   "execution_count": null,
   "metadata": {
    "id": "3ydBrZhbf7YL"
   },
   "outputs": [],
   "source": [
    "\n",
    "workout_minutes = list(range(30, 1000000))\n",
    "calories_burned = list(range(30, 1000000))\n",
    "\n",
    "# Convert to NumPy arrays\n",
    "workout_np = np.array(workout_minutes)\n",
    "calories_np = np.array(calories_burned)\n",
    "\n",
    "# Compare performance of Python loop vs NumPy dot product\n"
   ]
  },
  {
   "cell_type": "code",
   "execution_count": null,
   "metadata": {
    "colab": {
     "base_uri": "https://localhost:8080/"
    },
    "id": "LKL7LGA5glIt",
    "outputId": "02d9436a-2fde-40aa-a591-0f3344cfa43e"
   },
   "outputs": [
    {
     "name": "stdout",
     "output_type": "stream",
     "text": [
      "333417833248417495\n",
      "CPU times: user 201 ms, sys: 0 ns, total: 201 ms\n",
      "Wall time: 203 ms\n"
     ]
    }
   ],
   "source": [
    "%%time\n",
    "energy_score_loop = 0\n",
    "for w, c in zip(workout_minutes, calories_burned):\n",
    "    energy_score_loop += w * c\n",
    "print(energy_score_loop)"
   ]
  },
  {
   "cell_type": "markdown",
   "metadata": {
    "id": "1_De4sM-goYM"
   },
   "source": [
    "### Using NumPy vectorized dot product"
   ]
  },
  {
   "cell_type": "code",
   "execution_count": null,
   "metadata": {
    "colab": {
     "base_uri": "https://localhost:8080/"
    },
    "id": "mul4mSQ3gp4M",
    "outputId": "411978dd-9850-4440-bd90-d34771f1380a"
   },
   "outputs": [
    {
     "name": "stdout",
     "output_type": "stream",
     "text": [
      "333332833333491445\n",
      "CPU times: user 3.12 ms, sys: 143 µs, total: 3.27 ms\n",
      "Wall time: 2.67 ms\n"
     ]
    }
   ],
   "source": [
    "%%time\n",
    "energy_score_np = np.dot(workout_np, calories_np)\n",
    "print(energy_score_np)"
   ]
  },
  {
   "cell_type": "markdown",
   "metadata": {
    "id": "cXmh9Pr96K0p"
   },
   "source": [
    "###Evaluate a Week at Once"
   ]
  },
  {
   "cell_type": "code",
   "execution_count": 97,
   "metadata": {
    "id": "gdrh-kTj6OVt"
   },
   "outputs": [],
   "source": [
    "week_data = np.array([\n",
    "    [45, 2.0, 6.5],\n",
    "    [30, 1.5, 8.0],\n",
    "    [60, 3.0, 7.0],\n",
    "    [50, 2.5, 7.5],\n",
    "    [40, 1.8, 6.0],\n",
    "    [55, 2.2, 6.8],\n",
    "    [35, 1.6, 7.2]\n",
    "])\n",
    "#2d array"
   ]
  },
  {
   "cell_type": "code",
   "execution_count": 99,
   "metadata": {
    "colab": {
     "base_uri": "https://localhost:8080/"
    },
    "id": "7VBsWQnujOHC",
    "outputId": "03f4c228-837c-4b75-de9c-939baaabe248"
   },
   "outputs": [
    {
     "name": "stdout",
     "output_type": "stream",
     "text": [
      "(7, 3)\n"
     ]
    }
   ],
   "source": [
    "# print(week_data)\n",
    "print(week_data.shape)"
   ]
  },
  {
   "cell_type": "code",
   "execution_count": 95,
   "metadata": {
    "colab": {
     "base_uri": "https://localhost:8080/"
    },
    "id": "AoMm_69ujbvB",
    "outputId": "095da773-4517-4b1e-a28c-d01f49ea9e48"
   },
   "outputs": [
    {
     "name": "stdout",
     "output_type": "stream",
     "text": [
      "(3,)\n"
     ]
    }
   ],
   "source": [
    "x=np.array([1,2,3])\n",
    "print(x.shape)"
   ]
  },
  {
   "cell_type": "code",
   "execution_count": 96,
   "metadata": {
    "id": "dQjEk23gjzpN"
   },
   "outputs": [],
   "source": [
    "weights = np.array([0.5, 0.2, 0.3])\n",
    "#1d array"
   ]
  },
  {
   "cell_type": "code",
   "execution_count": 103,
   "metadata": {
    "colab": {
     "base_uri": "https://localhost:8080/"
    },
    "id": "aVnrjMlSln6g",
    "outputId": "10509f6d-c414-456f-9b38-f8f9843b80cb"
   },
   "outputs": [
    {
     "name": "stdout",
     "output_type": "stream",
     "text": [
      "(2, 2, 3)\n"
     ]
    }
   ],
   "source": [
    "\n",
    "arr = np.array([[[1, 2, 3], [4, 5, 6]],\n",
    "\n",
    "                 [[1, 2, 3], [4, 5, 6]]])\n",
    "\n",
    "print(arr.shape)"
   ]
  },
  {
   "cell_type": "markdown",
   "metadata": {
    "id": "edWMHNsgn3IW"
   },
   "source": [
    "All elements in a NumPy array must have the same data type. You can inspect the type using .dtype."
   ]
  },
  {
   "cell_type": "code",
   "execution_count": 104,
   "metadata": {
    "colab": {
     "base_uri": "https://localhost:8080/"
    },
    "id": "QLnryhSrnxQJ",
    "outputId": "07e1fcbc-4054-4bfe-860e-f7458c53b4e7"
   },
   "outputs": [
    {
     "name": "stdout",
     "output_type": "stream",
     "text": [
      "arr dtype: int64\n"
     ]
    }
   ],
   "source": [
    "arr = np.array([\n",
    "    [8, 2, 1],\n",
    "    [9, 3, 2],\n",
    "    [7, 1, 2]\n",
    "])\n",
    "print(\"arr dtype:\", arr.dtype)"
   ]
  },
  {
   "cell_type": "markdown",
   "metadata": {
    "id": "1IqcOuhhn7uM"
   },
   "source": [
    "Add Floating Point to One Entry"
   ]
  },
  {
   "cell_type": "code",
   "execution_count": 105,
   "metadata": {
    "colab": {
     "base_uri": "https://localhost:8080/"
    },
    "id": "XyVo-FjWn6Kw",
    "outputId": "fae12759-9eb1-45b8-9f02-07af6016ba88"
   },
   "outputs": [
    {
     "name": "stdout",
     "output_type": "stream",
     "text": [
      "arr2 dtype: float64\n"
     ]
    }
   ],
   "source": [
    "# Introduce one float into the array\n",
    "arr2 = np.array([\n",
    "    [8.0, 2, 1],\n",
    "    [9, 3, 2],\n",
    "    [7, 1, 2]\n",
    "])\n",
    "print(\"arr2 dtype:\",arr2.dtype)\n"
   ]
  },
  {
   "cell_type": "code",
   "execution_count": 106,
   "metadata": {
    "colab": {
     "base_uri": "https://localhost:8080/"
    },
    "id": "ZrZIYPIYh3rf",
    "outputId": "fa06887a-a96a-48dc-b592-86a94886f097"
   },
   "outputs": [
    {
     "name": "stdout",
     "output_type": "stream",
     "text": [
      "Weekly Scores: [24.85 17.7  32.7  27.75 22.16 29.98 19.98]\n"
     ]
    }
   ],
   "source": [
    "weekly_scores = np.dot(week_data, weights)\n",
    "print(\"Weekly Scores:\", weekly_scores)\n"
   ]
  },
  {
   "cell_type": "code",
   "execution_count": 107,
   "metadata": {
    "colab": {
     "base_uri": "https://localhost:8080/"
    },
    "id": "0oXCuqJJj7ra",
    "outputId": "cdb837f0-03d4-43aa-db52-2138ea4621ba"
   },
   "outputs": [
    {
     "name": "stdout",
     "output_type": "stream",
     "text": [
      "Weekly Scores1: [24.85 17.7  32.7  27.75 22.16 29.98 19.98]\n"
     ]
    }
   ],
   "source": [
    "weekly_scores1=week_data @ weights\n",
    "print(\"Weekly Scores1:\", weekly_scores1)"
   ]
  },
  {
   "cell_type": "markdown",
   "metadata": {
    "id": "sbw87PPCHJWP"
   },
   "source": [
    "# NumPy Analysis on Wine Quality Dataset\n",
    "\n",
    "We will use NumPy to explore the [Wine Quality dataset](https://archive.ics.uci.edu/ml/datasets/wine+quality), which contains physicochemical and quality-related properties of red and white wine samples.\n",
    "\n",
    "---\n",
    "\n",
    "## Step 1: Load CSV Data using NumPy\n"
   ]
  },
  {
   "cell_type": "code",
   "execution_count": null,
   "metadata": {
    "id": "TJRFZE9jvOb6"
   },
   "outputs": [],
   "source": [
    "# Load data from UCI Wine Quality Dataset (hosted on GitHub)\n",
    "url = 'https://archive.ics.uci.edu/ml/machine-learning-databases/wine-quality/winequality-red.csv'\n"
   ]
  },
  {
   "cell_type": "code",
   "execution_count": 108,
   "metadata": {
    "colab": {
     "base_uri": "https://localhost:8080/"
    },
    "id": "L-HdnwrpvCZ_",
    "outputId": "fc52ffdc-c3a2-463e-ca5d-eed384e13c35"
   },
   "outputs": [
    {
     "name": "stdout",
     "output_type": "stream",
     "text": [
      "Shape of dataset: (1599, 12)\n"
     ]
    }
   ],
   "source": [
    "# Use genfromtxt with proper delimiter and header skip\n",
    "wine_data = np.genfromtxt(url, delimiter=';', skip_header=1)\n",
    "print(\"Shape of dataset:\", wine_data.shape)\n"
   ]
  },
  {
   "cell_type": "code",
   "execution_count": 110,
   "metadata": {
    "colab": {
     "base_uri": "https://localhost:8080/"
    },
    "id": "jLPRSlsc_fsq",
    "outputId": "d796d081-7528-437a-badb-7cf3b7660a44"
   },
   "outputs": [
    {
     "name": "stdout",
     "output_type": "stream",
     "text": [
      "[[ 7.4    0.7    0.    ...  0.56   9.4    5.   ]\n",
      " [ 7.8    0.88   0.    ...  0.68   9.8    5.   ]\n",
      " [ 7.8    0.76   0.04  ...  0.65   9.8    5.   ]\n",
      " ...\n",
      " [ 6.3    0.51   0.13  ...  0.75  11.     6.   ]\n",
      " [ 5.9    0.645  0.12  ...  0.71  10.2    5.   ]\n",
      " [ 6.     0.31   0.47  ...  0.66  11.     6.   ]]\n"
     ]
    }
   ],
   "source": [
    "print(wine_data)"
   ]
  },
  {
   "cell_type": "markdown",
   "metadata": {
    "id": "w0jpqBJ_4fAg"
   },
   "source": [
    "Download and Save the CSV File:"
   ]
  },
  {
   "cell_type": "code",
   "execution_count": 111,
   "metadata": {
    "colab": {
     "base_uri": "https://localhost:8080/"
    },
    "id": "M2-1cHM_4cQR",
    "outputId": "28911555-53f9-4d8d-c1c2-b81a7fa88cc7"
   },
   "outputs": [
    {
     "name": "stdout",
     "output_type": "stream",
     "text": [
      "File saved as: winequality-red.csv\n"
     ]
    }
   ],
   "source": [
    "import urllib.request\n",
    "\n",
    "# URL of the dataset\n",
    "url = 'https://archive.ics.uci.edu/ml/machine-learning-databases/wine-quality/winequality-red.csv'\n",
    "\n",
    "# Local filename to save as\n",
    "filename = 'winequality-red.csv'\n",
    "\n",
    "# Download the file from `url` and save it locally under `filename`\n",
    "urllib.request.urlretrieve(url, filename)\n",
    "\n",
    "print(f\"File saved as: {filename}\")\n"
   ]
  },
  {
   "cell_type": "code",
   "execution_count": 112,
   "metadata": {
    "colab": {
     "base_uri": "https://localhost:8080/"
    },
    "id": "2U9pp4QC4uND",
    "outputId": "bfbb6477-ec79-4a26-f0e7-2f35d55b5347"
   },
   "outputs": [
    {
     "name": "stdout",
     "output_type": "stream",
     "text": [
      "(1599, 12)\n"
     ]
    }
   ],
   "source": [
    "\n",
    "wine_data = np.genfromtxt('winequality-red.csv', delimiter=';', skip_header=1)\n",
    "print(wine_data.shape)"
   ]
  },
  {
   "cell_type": "code",
   "execution_count": 113,
   "metadata": {
    "colab": {
     "base_uri": "https://localhost:8080/"
    },
    "id": "58e57toBvzoX",
    "outputId": "4414a874-bc52-4610-d3bb-9cb246a36964"
   },
   "outputs": [
    {
     "data": {
      "text/plain": [
       "array([[ 7.4  ,  0.7  ,  0.   , ...,  0.56 ,  9.4  ,  5.   ],\n",
       "       [ 7.8  ,  0.88 ,  0.   , ...,  0.68 ,  9.8  ,  5.   ],\n",
       "       [ 7.8  ,  0.76 ,  0.04 , ...,  0.65 ,  9.8  ,  5.   ],\n",
       "       ...,\n",
       "       [ 6.3  ,  0.51 ,  0.13 , ...,  0.75 , 11.   ,  6.   ],\n",
       "       [ 5.9  ,  0.645,  0.12 , ...,  0.71 , 10.2  ,  5.   ],\n",
       "       [ 6.   ,  0.31 ,  0.47 , ...,  0.66 , 11.   ,  6.   ]])"
      ]
     },
     "execution_count": 113,
     "metadata": {},
     "output_type": "execute_result"
    }
   ],
   "source": [
    "wine_data"
   ]
  },
  {
   "cell_type": "markdown",
   "metadata": {
    "id": "_mq8PRJhyzMQ"
   },
   "source": [
    "Check Column-wise Statistics"
   ]
  },
  {
   "cell_type": "code",
   "execution_count": null,
   "metadata": {
    "colab": {
     "base_uri": "https://localhost:8080/"
    },
    "id": "tEn86KTCy2GX",
    "outputId": "c3ebc3e0-cbf1-4ea4-b2cd-a8a079d1b024"
   },
   "outputs": [
    {
     "name": "stdout",
     "output_type": "stream",
     "text": [
      "Means:\n",
      " [ 8.31963727  0.52782051  0.27097561  2.5388055   0.08746654 15.87492183\n",
      " 46.46779237  0.99674668  3.3111132   0.65814884 10.42298311  5.63602251]\n",
      "Standard Deviations:\n",
      " [1.74055180e+00 1.79003704e-01 1.94740214e-01 1.40948711e+00\n",
      " 4.70505826e-02 1.04568856e+01 3.28850367e+01 1.88674370e-03\n",
      " 1.54338181e-01 1.69453967e-01 1.06533430e+00 8.07316877e-01]\n"
     ]
    }
   ],
   "source": [
    "mean_vals = np.mean(wine_data, axis=0)\n",
    "std_vals = np.std(wine_data, axis=0)\n",
    "print(\"Means:\\n\", mean_vals)\n",
    "print(\"Standard Deviations:\\n\", std_vals)\n"
   ]
  },
  {
   "cell_type": "code",
   "execution_count": 115,
   "metadata": {
    "colab": {
     "base_uri": "https://localhost:8080/"
    },
    "id": "Zyo3_af2KaTK",
    "outputId": "5929e7a1-337d-401d-94a6-28ee21c32f23"
   },
   "outputs": [
    {
     "name": "stdout",
     "output_type": "stream",
     "text": [
      "[2. 5. 8.]\n"
     ]
    }
   ],
   "source": [
    "x = np.array([[1, 2, 3],\n",
    "                      [4, 5, 6],\n",
    "                      [7, 8, 9]])\n",
    "mean_vals = np.mean(x, axis=1)\n",
    "print(mean_vals)\n"
   ]
  },
  {
   "cell_type": "markdown",
   "metadata": {
    "id": "LT3GRoq8zM75"
   },
   "source": [
    "###Indexing and Filtering Examples"
   ]
  },
  {
   "cell_type": "markdown",
   "metadata": {
    "id": "9ogDBvRWzO1u"
   },
   "source": [
    "Filter wines with alcohol > 10"
   ]
  },
  {
   "cell_type": "code",
   "execution_count": 116,
   "metadata": {
    "colab": {
     "base_uri": "https://localhost:8080/"
    },
    "id": "Ptfie8WcLUs9",
    "outputId": "fa126931-e031-4c28-e0e4-acf0fcff2cd0"
   },
   "outputs": [
    {
     "data": {
      "text/plain": [
       "array([False, False, False, ...,  True,  True,  True])"
      ]
     },
     "execution_count": 116,
     "metadata": {},
     "output_type": "execute_result"
    }
   ],
   "source": [
    "wine_data[:,10]>10"
   ]
  },
  {
   "cell_type": "code",
   "execution_count": 119,
   "metadata": {
    "colab": {
     "base_uri": "https://localhost:8080/"
    },
    "id": "f4hUtZOSzMul",
    "outputId": "37015ec4-21c2-414a-b03d-8b06960ae4a3"
   },
   "outputs": [
    {
     "name": "stdout",
     "output_type": "stream",
     "text": [
      "[[ 7.5    0.5    0.36  ...  0.8   10.5    5.   ]\n",
      " [ 7.5    0.5    0.36  ...  0.8   10.5    5.   ]\n",
      " [ 8.5    0.28   0.56  ...  0.75  10.5    7.   ]\n",
      " ...\n",
      " [ 6.3    0.51   0.13  ...  0.75  11.     6.   ]\n",
      " [ 5.9    0.645  0.12  ...  0.71  10.2    5.   ]\n",
      " [ 6.     0.31   0.47  ...  0.66  11.     6.   ]]\n",
      "High alcohol wines: 852\n"
     ]
    }
   ],
   "source": [
    "high_alcohol = wine_data[wine_data[:, 10] > 10]\n",
    "print(high_alcohol)\n",
    "high_alcohol.shape\n",
    "print(\"High alcohol wines:\", high_alcohol.shape[0])\n"
   ]
  },
  {
   "cell_type": "markdown",
   "metadata": {
    "id": "qG4nUYG8zW9w"
   },
   "source": [
    "Filter wines with quality (last column) ≥ 7"
   ]
  },
  {
   "cell_type": "code",
   "execution_count": null,
   "metadata": {
    "colab": {
     "base_uri": "https://localhost:8080/"
    },
    "id": "oo6T8JU3zYEM",
    "outputId": "fb01ea06-e1dc-4aea-9e41-1445ff796474"
   },
   "outputs": [
    {
     "name": "stdout",
     "output_type": "stream",
     "text": [
      "Good quality wines: 217\n"
     ]
    }
   ],
   "source": [
    "good_wines = wine_data[wine_data[:, -1] >= 7]\n",
    "print(\"Good quality wines:\", good_wines.shape[0])\n"
   ]
  },
  {
   "cell_type": "code",
   "execution_count": 120,
   "metadata": {
    "colab": {
     "base_uri": "https://localhost:8080/"
    },
    "id": "25qAEW3jB1Li",
    "outputId": "a7ab0e9b-20c6-44d4-9e18-89c62aac06a7"
   },
   "outputs": [
    {
     "name": "stdout",
     "output_type": "stream",
     "text": [
      "[1, 2, 3, 4, 5]\n"
     ]
    }
   ],
   "source": [
    "lst=[1,2,3,4,5,6]\n",
    "print(lst[:5])"
   ]
  },
  {
   "cell_type": "markdown",
   "metadata": {
    "id": "9HHiuCCHzcDz"
   },
   "source": [
    "Slice first 5 rows and columns"
   ]
  },
  {
   "cell_type": "code",
   "execution_count": 121,
   "metadata": {
    "colab": {
     "base_uri": "https://localhost:8080/"
    },
    "id": "zCnFH6w_zc83",
    "outputId": "b4086e7b-f932-422b-c1f5-b46ae75dc326"
   },
   "outputs": [
    {
     "name": "stdout",
     "output_type": "stream",
     "text": [
      "[[ 7.4    0.7    0.     1.9    0.076]\n",
      " [ 7.8    0.88   0.     2.6    0.098]\n",
      " [ 7.8    0.76   0.04   2.3    0.092]\n",
      " [11.2    0.28   0.56   1.9    0.075]\n",
      " [ 7.4    0.7    0.     1.9    0.076]]\n"
     ]
    }
   ],
   "source": [
    "print(wine_data[:5, :5])\n"
   ]
  },
  {
   "cell_type": "markdown",
   "metadata": {
    "id": "hSSr_xwNzez3"
   },
   "source": [
    "Compute average alcohol content per quality level"
   ]
  },
  {
   "cell_type": "code",
   "execution_count": 122,
   "metadata": {
    "colab": {
     "base_uri": "https://localhost:8080/"
    },
    "id": "G25_66YOMzmu",
    "outputId": "085e8809-0406-4346-941c-44876e3c195d"
   },
   "outputs": [
    {
     "data": {
      "text/plain": [
       "array([3., 4., 5., 6., 7., 8.])"
      ]
     },
     "execution_count": 122,
     "metadata": {},
     "output_type": "execute_result"
    }
   ],
   "source": [
    "np.unique(wine_data[:, -1])"
   ]
  },
  {
   "cell_type": "code",
   "execution_count": 126,
   "metadata": {
    "colab": {
     "base_uri": "https://localhost:8080/"
    },
    "id": "Lb3BHg8tC42y",
    "outputId": "84deaa0c-7309-47d4-83d9-ec759183d484"
   },
   "outputs": [
    {
     "data": {
      "text/plain": [
       "array([ True,  True,  True, ..., False,  True, False])"
      ]
     },
     "execution_count": 126,
     "metadata": {},
     "output_type": "execute_result"
    }
   ],
   "source": [
    "wine_data[:, -1] == 5"
   ]
  },
  {
   "cell_type": "code",
   "execution_count": 128,
   "metadata": {
    "colab": {
     "base_uri": "https://localhost:8080/"
    },
    "id": "fz9hT7eQCl08",
    "outputId": "7810ce4e-4ddb-425e-b06e-fa0b400c5d1e"
   },
   "outputs": [
    {
     "data": {
      "text/plain": [
       "np.float64(9.899706314243758)"
      ]
     },
     "execution_count": 128,
     "metadata": {},
     "output_type": "execute_result"
    }
   ],
   "source": [
    "np.mean(wine_data[wine_data[:, -1] == 5][:,10])"
   ]
  },
  {
   "cell_type": "code",
   "execution_count": null,
   "metadata": {
    "colab": {
     "base_uri": "https://localhost:8080/"
    },
    "id": "XRE5TehBzg0w",
    "outputId": "8ff6919b-228e-4718-d8ac-2c44eca6dc05"
   },
   "outputs": [
    {
     "name": "stdout",
     "output_type": "stream",
     "text": [
      "Quality 3: Avg Alcohol = 9.96\n",
      "Quality 4: Avg Alcohol = 10.27\n",
      "Quality 5: Avg Alcohol = 9.90\n",
      "Quality 6: Avg Alcohol = 10.63\n",
      "Quality 7: Avg Alcohol = 11.47\n",
      "Quality 8: Avg Alcohol = 12.09\n"
     ]
    }
   ],
   "source": [
    "for quality in np.unique(wine_data[:, -1]):\n",
    "    avg_alcohol = np.mean(wine_data[wine_data[:, -1] == quality][:, 10])\n",
    "    print(f\"Quality {int(quality)}: Avg Alcohol = {avg_alcohol:.2f}\")\n"
   ]
  },
  {
   "cell_type": "markdown",
   "metadata": {
    "id": "flEm2lplzlp6"
   },
   "source": [
    "Compute correlation between alcohol and quality"
   ]
  },
  {
   "cell_type": "code",
   "execution_count": null,
   "metadata": {
    "colab": {
     "base_uri": "https://localhost:8080/"
    },
    "id": "Lpwm7iRczmk8",
    "outputId": "4f5165cd-3ae0-4d71-a2e8-057a2b026b3a"
   },
   "outputs": [
    {
     "name": "stdout",
     "output_type": "stream",
     "text": [
      "Correlation between alcohol and quality: 0.47616632400113584\n"
     ]
    }
   ],
   "source": [
    "alcohol = wine_data[:, 10]\n",
    "quality = wine_data[:, -1]\n",
    "correlation = np.corrcoef(alcohol, quality)[0, 1]\n",
    "print(\"Correlation between alcohol and quality:\", correlation)\n"
   ]
  },
  {
   "cell_type": "markdown",
   "metadata": {
    "id": "47AyF6uXv-BI"
   },
   "source": [
    "###Compute Weighted Wine Score\n",
    "Let’s say you care about three columns:\n",
    "\n",
    "Alcohol (index 10)\n",
    "\n",
    "Sulphates (index 9)\n",
    "\n",
    "Volatile acidity (index 1)"
   ]
  },
  {
   "cell_type": "code",
   "execution_count": null,
   "metadata": {
    "colab": {
     "base_uri": "https://localhost:8080/"
    },
    "id": "guxIfGmZwBoc",
    "outputId": "53e6fc43-8276-4c16-d7be-79d41e2eaaff"
   },
   "outputs": [
    {
     "name": "stdout",
     "output_type": "stream",
     "text": [
      "Wine scores (first 5): [3.718 3.86  3.887 4.01  3.718]\n"
     ]
    }
   ],
   "source": [
    "# Select relevant columns\n",
    "features = wine_data[:, [10, 9, 1]]\n",
    "\n",
    "# Assign weights: high alcohol is good, low volatile acidity is good\n",
    "weights = np.array([0.4, 0.3, -0.3])\n",
    "\n",
    "# Compute custom wine score\n",
    "scores = features @ weights\n",
    "print(\"Wine scores (first 5):\", scores[:5])\n"
   ]
  },
  {
   "cell_type": "markdown",
   "metadata": {
    "id": "KppuHWRl8aZx"
   },
   "source": [
    "##  Broadcasting\n",
    "\n",
    "NumPy lets you perform mathematical operations with operators like `+`, `-`, `*`, `/` on arrays.\n",
    "You can use these with either a single number (scalar) or another array of the same shape.\n",
    "Here are some useful examples:\n"
   ]
  },
  {
   "cell_type": "code",
   "execution_count": 129,
   "metadata": {
    "colab": {
     "base_uri": "https://localhost:8080/"
    },
    "id": "i7usnXEG8ldC",
    "outputId": "c95468dc-19c9-4d17-c033-d2e63520561e"
   },
   "outputs": [
    {
     "name": "stdout",
     "output_type": "stream",
     "text": [
      "# maatrix sum\n",
      " [[18 18 18 17]\n",
      " [19 22 18 16]\n",
      " [21 23 20 19]]\n",
      "\n",
      "# Subtract arrays\n",
      " [[10  4 14  7]\n",
      " [ 7 16  2 14]\n",
      " [21  5 16  7]]\n",
      "# Add a scalar\n",
      " [[ 6  9  4  7]\n",
      " [ 8  5 10  3]\n",
      " [ 2 11  4  8]]\n",
      "\n",
      "# Divide by scalar\n",
      " [[2.  3.5 1.  2.5]\n",
      " [3.  1.5 4.  0.5]\n",
      " [0.  4.5 1.  3. ]]\n",
      "\n",
      "# Elementwise multiplication\n",
      " [[ 56  77  32  60]\n",
      " [ 78  57  80  15]\n",
      " [  0 126  36  78]]\n",
      "\n",
      "# Modulus with scalar\n",
      " [[1 1 2 2]\n",
      " [0 0 2 1]\n",
      " [0 0 2 0]]\n"
     ]
    }
   ],
   "source": [
    "import numpy as np\n",
    "\n",
    "# Example arrays\n",
    "matrixA = np.array([[4, 7, 2, 5],\n",
    "                    [6, 3, 8, 1],\n",
    "                    [0, 9, 2, 6]])\n",
    "\n",
    "matrixB = np.array([[14, 11, 16, 12],\n",
    "                    [13, 19, 10, 15],\n",
    "                    [21, 14, 18, 13]])\n",
    "\n",
    "# matrix sum\n",
    "print(\"# maatrix sum\\n\", matrixA + matrixB)\n",
    "\n",
    "# Subtract arrays\n",
    "print(\"\\n# Subtract arrays\\n\", matrixB - matrixA)\n",
    "\n",
    "# Add a scalar\n",
    "print(\"# Add a scalar\\n\", matrixA + 2)\n",
    "\n",
    "\n",
    "# Divide by scalar\n",
    "print(\"\\n# Divide by scalar\\n\", matrixA / 2)\n",
    "\n",
    "# Elementwise multiplication\n",
    "print(\"\\n# Elementwise multiplication\\n\", matrixA * matrixB)\n",
    "\n",
    "# Modulus with scalar\n",
    "print(\"\\n# Modulus with scalar\\n\", matrixA % 3)\n"
   ]
  },
  {
   "cell_type": "markdown",
   "metadata": {
    "id": "hrHVzcqV8u3L"
   },
   "source": [
    "## Array Broadcasting\n",
    "\n",
    "Broadcasting describes how NumPy handles operations between arrays of different shapes. Instead of forcing you to create arrays with the exact same dimensions, NumPy automatically \"broadcasts\" the smaller array across the larger one so that their shapes match."
   ]
  },
  {
   "cell_type": "markdown",
   "metadata": {
    "id": "CP6sCnSWXgZp"
   },
   "source": [
    "When operating on two arrays, NumPy compares their shapes element-wise. It starts with the trailing (i.e. rightmost) dimension and works its way left. Two dimensions are compatible when they are equal, or one of them is 1."
   ]
  },
  {
   "cell_type": "markdown",
   "metadata": {
    "id": "4X6IYUqeHaw7"
   },
   "source": []
  },
  {
   "cell_type": "code",
   "execution_count": null,
   "metadata": {
    "colab": {
     "base_uri": "https://localhost:8080/"
    },
    "id": "q8YmDgnUPT3p",
    "outputId": "161a0f4a-c409-440c-bad6-4ecaa58fddec"
   },
   "outputs": [
    {
     "name": "stdout",
     "output_type": "stream",
     "text": [
      "[11 12 13]\n"
     ]
    }
   ],
   "source": [
    "a = np.array([1, 2, 3])\n",
    "b = 10\n",
    "print(a + b)"
   ]
  },
  {
   "cell_type": "markdown",
   "metadata": {
    "id": "9ZFmDEfhPa8s"
   },
   "source": [
    "2D array and 1D array\n"
   ]
  },
  {
   "cell_type": "code",
   "execution_count": 130,
   "metadata": {
    "colab": {
     "base_uri": "https://localhost:8080/"
    },
    "id": "AcdlSaXBPcnm",
    "outputId": "3c616bd8-9304-4ecb-b2bf-f3cee85e9715"
   },
   "outputs": [
    {
     "name": "stdout",
     "output_type": "stream",
     "text": [
      "[[11 22 33]\n",
      " [14 25 36]]\n"
     ]
    }
   ],
   "source": [
    "A = np.array([[1, 2, 3],\n",
    "\n",
    "              [4, 5, 6]])\n",
    "\n",
    "B = np.array([10, 20, 30])\n",
    "print(A + B)\n",
    "#Here, B is broadcasted over each row of A"
   ]
  },
  {
   "cell_type": "markdown",
   "metadata": {
    "id": "w2GnWlEMPxEw"
   },
   "source": []
  },
  {
   "cell_type": "code",
   "execution_count": 131,
   "metadata": {
    "colab": {
     "base_uri": "https://localhost:8080/"
    },
    "id": "dvFGV5QF8zED",
    "outputId": "f2bfbd65-fd0d-442d-9055-8562d362337f"
   },
   "outputs": [
    {
     "name": "stdout",
     "output_type": "stream",
     "text": [
      "matrixA.shape: (3, 4)\n",
      "vectorC.shape: (4,)\n",
      "\n",
      "# Broadcasting add\n",
      " [[ 6 11  8 13]\n",
      " [ 8  7 14  9]\n",
      " [ 2 13  8 14]]\n",
      "\n",
      "# Broadcasting error: operands could not be broadcast together with shapes (3,4) (2,) \n"
     ]
    }
   ],
   "source": [
    "matrixA = np.array([[4, 7, 2, 5],\n",
    "                    [6, 3, 8, 1],\n",
    "                    [0, 9, 2, 6]])\n",
    "vectorC = np.array([2, 4, 6, 8])\n",
    "\n",
    "print(\"matrixA.shape:\", matrixA.shape)\n",
    "print(\"vectorC.shape:\", vectorC.shape)\n",
    "print(\"\\n# Broadcasting add\\n\", matrixA + vectorC)\n",
    "\n",
    "vectorD = np.array([5, 7])\n",
    "# This will error:\n",
    "try:\n",
    "    matrixA + vectorD\n",
    "except Exception as e:\n",
    "    print(\"\\n# Broadcasting error:\", e)\n"
   ]
  },
  {
   "cell_type": "code",
   "execution_count": null,
   "metadata": {
    "colab": {
     "base_uri": "https://localhost:8080/"
    },
    "id": "fMlq9U2xSK6X",
    "outputId": "d61166de-6aca-47c2-d53e-eb278434b2c9"
   },
   "outputs": [
    {
     "name": "stdout",
     "output_type": "stream",
     "text": [
      "[[11 12 13]\n",
      " [24 25 26]]\n"
     ]
    }
   ],
   "source": [
    "A = np.array([[1, 2, 3],\n",
    "\n",
    "              [4, 5, 6]])\n",
    "\n",
    "B = np.array([[10],\n",
    "\n",
    "              [20]])\n",
    "print(A + B)\n"
   ]
  },
  {
   "cell_type": "code",
   "execution_count": null,
   "metadata": {
    "colab": {
     "base_uri": "https://localhost:8080/",
     "height": 181
    },
    "id": "8aIbhAY0Sj3a",
    "outputId": "4bc5ab18-6136-440f-e716-11e5f4447f00"
   },
   "outputs": [
    {
     "ename": "ValueError",
     "evalue": "operands could not be broadcast together with shapes (3,) (2,) ",
     "output_type": "error",
     "traceback": [
      "\u001b[0;31m---------------------------------------------------------------------------\u001b[0m",
      "\u001b[0;31mValueError\u001b[0m                                Traceback (most recent call last)",
      "\u001b[0;32m/tmp/ipython-input-3226033446.py\u001b[0m in \u001b[0;36m<cell line: 0>\u001b[0;34m()\u001b[0m\n\u001b[1;32m      1\u001b[0m \u001b[0ma\u001b[0m \u001b[0;34m=\u001b[0m \u001b[0mnp\u001b[0m\u001b[0;34m.\u001b[0m\u001b[0marray\u001b[0m\u001b[0;34m(\u001b[0m\u001b[0;34m[\u001b[0m\u001b[0;36m1\u001b[0m\u001b[0;34m,\u001b[0m \u001b[0;36m2\u001b[0m\u001b[0;34m,\u001b[0m \u001b[0;36m3\u001b[0m\u001b[0;34m]\u001b[0m\u001b[0;34m)\u001b[0m\u001b[0;34m\u001b[0m\u001b[0;34m\u001b[0m\u001b[0m\n\u001b[1;32m      2\u001b[0m \u001b[0mb\u001b[0m \u001b[0;34m=\u001b[0m \u001b[0mnp\u001b[0m\u001b[0;34m.\u001b[0m\u001b[0marray\u001b[0m\u001b[0;34m(\u001b[0m\u001b[0;34m[\u001b[0m\u001b[0;36m1\u001b[0m\u001b[0;34m,\u001b[0m \u001b[0;36m2\u001b[0m\u001b[0;34m]\u001b[0m\u001b[0;34m)\u001b[0m\u001b[0;34m\u001b[0m\u001b[0;34m\u001b[0m\u001b[0m\n\u001b[0;32m----> 3\u001b[0;31m \u001b[0ma\u001b[0m \u001b[0;34m+\u001b[0m \u001b[0mb\u001b[0m  \u001b[0;31m# This will raise an error because their shapes are not compatible!\u001b[0m\u001b[0;34m\u001b[0m\u001b[0;34m\u001b[0m\u001b[0m\n\u001b[0m",
      "\u001b[0;31mValueError\u001b[0m: operands could not be broadcast together with shapes (3,) (2,) "
     ]
    }
   ],
   "source": [
    "a = np.array([1, 2, 3])\n",
    "b = np.array([1, 2])\n",
    "a + b  # This will raise an error because their shapes are not compatible!"
   ]
  },
  {
   "cell_type": "code",
   "execution_count": 146,
   "metadata": {
    "colab": {
     "base_uri": "https://localhost:8080/"
    },
    "id": "2Yz4zXWhSyKO",
    "outputId": "5a12ec8f-b9f6-42c3-9565-4942e2ea02a1"
   },
   "outputs": [
    {
     "name": "stdout",
     "output_type": "stream",
     "text": [
      "(3, 1)\n",
      "(3,)\n"
     ]
    }
   ],
   "source": [
    "A = np.array([[1],\n",
    "\n",
    "              [2],\n",
    "\n",
    "               [3]])   # Shape (3,1)\n",
    "B = np.array([10, 20, 30])      # Shape (3,)\n",
    "print(A.shape)\n",
    "print(B.shape)"
   ]
  },
  {
   "cell_type": "code",
   "execution_count": 144,
   "metadata": {
    "colab": {
     "base_uri": "https://localhost:8080/",
     "height": 199
    },
    "id": "IFQUqufXVy0x",
    "outputId": "22fd0623-4f8f-48ca-cd02-829ddeb618f7"
   },
   "outputs": [
    {
     "name": "stdout",
     "output_type": "stream",
     "text": [
      "(3,) (2,)\n"
     ]
    },
    {
     "ename": "ValueError",
     "evalue": "operands could not be broadcast together with shapes (3,) (2,) ",
     "output_type": "error",
     "traceback": [
      "\u001b[0;31m---------------------------------------------------------------------------\u001b[0m",
      "\u001b[0;31mValueError\u001b[0m                                Traceback (most recent call last)",
      "\u001b[0;32m/tmp/ipython-input-922007874.py\u001b[0m in \u001b[0;36m<cell line: 0>\u001b[0;34m()\u001b[0m\n\u001b[1;32m      2\u001b[0m \u001b[0mb\u001b[0m \u001b[0;34m=\u001b[0m \u001b[0mnp\u001b[0m\u001b[0;34m.\u001b[0m\u001b[0marray\u001b[0m\u001b[0;34m(\u001b[0m\u001b[0;34m[\u001b[0m\u001b[0;36m4\u001b[0m\u001b[0;34m,\u001b[0m \u001b[0;36m5\u001b[0m\u001b[0;34m]\u001b[0m\u001b[0;34m)\u001b[0m\u001b[0;34m\u001b[0m\u001b[0;34m\u001b[0m\u001b[0m\n\u001b[1;32m      3\u001b[0m \u001b[0mprint\u001b[0m\u001b[0;34m(\u001b[0m\u001b[0ma\u001b[0m\u001b[0;34m.\u001b[0m\u001b[0mshape\u001b[0m\u001b[0;34m,\u001b[0m\u001b[0mb\u001b[0m\u001b[0;34m.\u001b[0m\u001b[0mshape\u001b[0m\u001b[0;34m)\u001b[0m\u001b[0;34m\u001b[0m\u001b[0;34m\u001b[0m\u001b[0m\n\u001b[0;32m----> 4\u001b[0;31m \u001b[0ma\u001b[0m\u001b[0;34m+\u001b[0m\u001b[0mb\u001b[0m\u001b[0;34m\u001b[0m\u001b[0;34m\u001b[0m\u001b[0m\n\u001b[0m",
      "\u001b[0;31mValueError\u001b[0m: operands could not be broadcast together with shapes (3,) (2,) "
     ]
    }
   ],
   "source": [
    "a = np.array([1, 2, 3])\n",
    "b = np.array([4, 5])\n",
    "print(a.shape,b.shape)\n",
    "a+b"
   ]
  },
  {
   "cell_type": "code",
   "execution_count": 134,
   "metadata": {
    "colab": {
     "base_uri": "https://localhost:8080/"
    },
    "id": "zwQcfsbZHokQ",
    "outputId": "537d5dcf-11ba-41f1-a664-31489c4a0849"
   },
   "outputs": [
    {
     "data": {
      "text/plain": [
       "array([[[1., 1., 1., 1., 1.],\n",
       "        [1., 1., 1., 1., 1.],\n",
       "        [1., 1., 1., 1., 1.]],\n",
       "\n",
       "       [[1., 1., 1., 1., 1.],\n",
       "        [1., 1., 1., 1., 1.],\n",
       "        [1., 1., 1., 1., 1.]],\n",
       "\n",
       "       [[1., 1., 1., 1., 1.],\n",
       "        [1., 1., 1., 1., 1.],\n",
       "        [1., 1., 1., 1., 1.]],\n",
       "\n",
       "       [[1., 1., 1., 1., 1.],\n",
       "        [1., 1., 1., 1., 1.],\n",
       "        [1., 1., 1., 1., 1.]]])"
      ]
     },
     "execution_count": 134,
     "metadata": {},
     "output_type": "execute_result"
    }
   ],
   "source": [
    " np.ones((4, 3, 5))"
   ]
  },
  {
   "cell_type": "code",
   "execution_count": 143,
   "metadata": {
    "colab": {
     "base_uri": "https://localhost:8080/"
    },
    "id": "QT8_0zeAWIW9",
    "outputId": "4d3be5cb-4b6f-4660-9d25-1231339ce5e4"
   },
   "outputs": [
    {
     "name": "stdout",
     "output_type": "stream",
     "text": [
      "(1, 3, 5)\n",
      "(4, 3, 1)\n",
      "(4, 3, 5)\n"
     ]
    }
   ],
   "source": [
    "a = np.ones((1, 3, 5))\n",
    "b = np.ones((4,3,1))\n",
    "print(a.shape)\n",
    "print(b.shape)\n",
    "# Error!\n",
    "c=a + b\n",
    "\n",
    "print(c.shape)"
   ]
  },
  {
   "cell_type": "markdown",
   "metadata": {
    "id": "sbVmhlea82G7"
   },
   "source": [
    "## Array Comparison\n",
    "\n",
    "Elementwise comparisons in NumPy return boolean arrays.\n",
    "You can use operations like `==`, `!=`, `>`, `<`, `>=`, `<=`.\n",
    "\n",
    "Example:\n"
   ]
  },
  {
   "cell_type": "code",
   "execution_count": 147,
   "metadata": {
    "colab": {
     "base_uri": "https://localhost:8080/"
    },
    "id": "oTmt23F-84AE",
    "outputId": "14c526ec-b4b9-4a29-e497-4e0bca1fbf61"
   },
   "outputs": [
    {
     "name": "stdout",
     "output_type": "stream",
     "text": [
      "# X == Y\n",
      " [[False  True  True]\n",
      " [ True False False]]\n",
      "\n",
      "# X >= Y\n",
      " [[ True  True  True]\n",
      " [ True False  True]]\n",
      "\n",
      "# Count not equal: 3\n"
     ]
    }
   ],
   "source": [
    "X = np.array([[5, 1, 8], [2, 4, 7]])\n",
    "Y = np.array([[3, 1, 8], [2, 9, 6]])\n",
    "\n",
    "print(\"# X == Y\\n\", X == Y)\n",
    "print(\"\\n# X >= Y\\n\", X >= Y)\n",
    "print(\"\\n# Count not equal:\", (X != Y).sum())\n"
   ]
  },
  {
   "cell_type": "markdown",
   "metadata": {
    "id": "kzU0ujEG86AI"
   },
   "source": [
    "## Array Indexing and Slicing\n",
    "\n",
    "You can select single elements, slices, or subarrays in NumPy arrays using indices and ranges.\n",
    "Here are a few examples:\n"
   ]
  },
  {
   "cell_type": "code",
   "execution_count": 148,
   "metadata": {
    "colab": {
     "base_uri": "https://localhost:8080/"
    },
    "id": "qjkHTiHp87XL",
    "outputId": "dd3027ce-2b57-4f9b-fb99-55098492e9d5"
   },
   "outputs": [
    {
     "name": "stdout",
     "output_type": "stream",
     "text": [
      "\n",
      "# cube[2, 1, 0]: 28\n",
      "\n",
      "# cube[1:, :, 1]:\n",
      " [[15 20]\n",
      " [25 30]]\n",
      "\n",
      "# cube[1, :, 1:]:\n",
      " [[15 17]\n",
      " [20 22]]\n",
      "\n",
      "# cube[2]:\n",
      " [[23 25 27]\n",
      " [28 30 32]]\n"
     ]
    }
   ],
   "source": [
    "cube = np.array([\n",
    "    [[ 3,  5,  7], [ 8, 10, 12]],\n",
    "    [[13, 15, 17], [18, 20, 22]],\n",
    "    [[23, 25, 27], [28, 30, 32]]\n",
    "])\n",
    "\n",
    "# print(\"# Shape:\", cube.shape)\n",
    "\n",
    "# Single element\n",
    "print(\"\\n# cube[2, 1, 0]:\", cube[2, 1, 0])\n",
    "\n",
    "# Subarray using ranges\n",
    "print(\"\\n# cube[1:, :, 1]:\\n\", cube[1:, :, 1])\n",
    "\n",
    "# Mixing indices and ranges\n",
    "print(\"\\n# cube[1, :, 1:]:\\n\", cube[1, :, 1:])\n",
    "\n",
    "# Fewer indices (returns 2D slice)\n",
    "print(\"\\n# cube[2]:\\n\", cube[2])\n"
   ]
  },
  {
   "cell_type": "markdown",
   "metadata": {
    "id": "g6rHnIDy9Tcj"
   },
   "source": [
    "## Different Ways to Initialize Numpy Arrays\n",
    "\n",
    "Numpy offers many built-in methods to create arrays with preset or random values.  \n",
    "Here are some useful examples with different shapes and values.  \n",
    "Check the [official docs](https://numpy.org/doc/stable/reference/routines.array-creation.html) for more options!\n"
   ]
  },
  {
   "cell_type": "code",
   "execution_count": null,
   "metadata": {
    "colab": {
     "base_uri": "https://localhost:8080/"
    },
    "id": "GKyv-Ktx9YEG",
    "outputId": "efa2112e-7c87-4593-c340-8af37a37e036"
   },
   "outputs": [
    {
     "name": "stdout",
     "output_type": "stream",
     "text": [
      "# All zeros array\n",
      " [[0. 0.]\n",
      " [0. 0.]\n",
      " [0. 0.]\n",
      " [0. 0.]]\n",
      "\n",
      "# All ones (3D)\n",
      " [[[1. 1.]\n",
      "  [1. 1.]\n",
      "  [1. 1.]]\n",
      "\n",
      " [[1. 1.]\n",
      "  [1. 1.]\n",
      "  [1. 1.]]]\n",
      "\n",
      "# Identity matrix\n",
      " [[1. 0. 0. 0.]\n",
      " [0. 1. 0. 0.]\n",
      " [0. 0. 1. 0.]\n",
      " [0. 0. 0. 1.]]\n",
      "\n",
      "# Random vector\n",
      " [0.23978397 0.41837078 0.82905372 0.6075684  0.41140772 0.13890524]\n",
      "\n",
      "# Random matrix (normal dist)\n",
      " [[ 1.26101764 -1.16950645  0.60976757  0.9550554 ]\n",
      " [-0.73022155 -0.39450002  0.02619099 -0.25443079]\n",
      " [ 0.36582914 -0.17520133 -0.53313406 -0.35327963]]\n",
      "\n",
      "# All 77s\n",
      " [[77 77]\n",
      " [77 77]\n",
      " [77 77]]\n",
      "\n",
      "# Range with step\n",
      " [ 5 12 19 26 33 40 47]\n",
      "\n",
      "# Evenly spaced in [2,18]\n",
      " [ 2.  4.  6.  8. 10. 12. 14. 16. 18.]\n"
     ]
    }
   ],
   "source": [
    "import numpy as np\n",
    "\n",
    "# All zeros array\n",
    "zero_grid = np.zeros((4, 2))\n",
    "print(\"# All zeros array\\n\", zero_grid)\n",
    "\n",
    "# All ones, higher dimension\n",
    "ones_cube = np.ones((2, 3, 2))\n",
    "print(\"\\n# All ones (3D)\\n\", ones_cube)\n",
    "\n",
    "# Identity matrix\n",
    "identity = np.eye(4)\n",
    "print(\"\\n# Identity matrix\\n\", identity)\n",
    "\n",
    "# Random vector (0 to 1)\n",
    "rand_vec = np.random.rand(6)\n",
    "print(\"\\n# Random vector\\n\", rand_vec)\n",
    "\n",
    "# Random matrix, standard normal distribution\n",
    "rand_matrix = np.random.randn(3, 4)\n",
    "print(\"\\n# Random matrix (normal dist)\\n\", rand_matrix)\n",
    "\n",
    "# Array with all entries set to a fixed value\n",
    "fixed_arr = np.full((3, 2), 77)\n",
    "print(\"\\n# All 77s\\n\", fixed_arr)\n",
    "\n",
    "# Array with range and step\n",
    "range_arr = np.arange(5, 50, 7)\n",
    "print(\"\\n# Range with step\\n\", range_arr)\n",
    "\n",
    "# Equally spaced points in an interval\n",
    "eq_space = np.linspace(2, 18, 9)\n",
    "print(\"\\n# Evenly spaced in [2,18]\\n\", eq_space)\n"
   ]
  },
  {
   "cell_type": "markdown",
   "metadata": {
    "id": "3-vLkTk-mYLv"
   },
   "source": [
    "# Assignment"
   ]
  },
  {
   "cell_type": "markdown",
   "metadata": {
    "id": "p6zScPZ_nCu9"
   },
   "source": [
    "\n",
    "Use the [Wine Quality Red dataset](https://archive.ics.uci.edu/ml/machine-learning-databases/wine-quality/winequality-red.csv) from UCI.\n",
    "\n",
    "**Rules:**\n",
    "- Use only NumPy (not Pandas, not scikit-learn, not SciPy)\n",
    "- Download, load, and manipulate the data with NumPy only"
   ]
  },
  {
   "cell_type": "markdown",
   "metadata": {},
   "source": [
    "#### 1. What is the shape of the data array? (How many wine samples and how many columns of features does it have?)\n"
   ]
  },
  {
   "cell_type": "code",
   "execution_count": 12,
   "metadata": {},
   "outputs": [],
   "source": [
    "import numpy as np"
   ]
  },
  {
   "cell_type": "code",
   "execution_count": 14,
   "metadata": {
    "scrolled": true
   },
   "outputs": [
    {
     "name": "stdout",
     "output_type": "stream",
     "text": [
      "Data loaded successfully: [[ 7.4    0.7    0.    ...  0.56   9.4    5.   ]\n",
      " [ 7.8    0.88   0.    ...  0.68   9.8    5.   ]\n",
      " [ 7.8    0.76   0.04  ...  0.65   9.8    5.   ]\n",
      " ...\n",
      " [ 6.3    0.51   0.13  ...  0.75  11.     6.   ]\n",
      " [ 5.9    0.645  0.12  ...  0.71  10.2    5.   ]\n",
      " [ 6.     0.31   0.47  ...  0.66  11.     6.   ]]\n"
     ]
    }
   ],
   "source": [
    "url = \"https://archive.ics.uci.edu/ml/machine-learning-databases/wine-quality/winequality-red.csv\"\n",
    "\n",
    "# Note - Numpy cannot handle mixed dtypes which is a limitation solved by pandas\n",
    "\n",
    "np_data = np.genfromtxt(url, delimiter=\";\", dtype=float, encoding=\"utf-8\", skip_header = 1,)\n",
    "print(\"Data loaded successfully:\", np_data)"
   ]
  },
  {
   "cell_type": "code",
   "execution_count": 16,
   "metadata": {},
   "outputs": [
    {
     "data": {
      "text/plain": [
       "(1599, 12)"
      ]
     },
     "execution_count": 16,
     "metadata": {},
     "output_type": "execute_result"
    }
   ],
   "source": [
    "np_data.shape"
   ]
  },
  {
   "cell_type": "markdown",
   "metadata": {},
   "source": [
    "#### 2. Calculate the average (mean) quality score of the red wines. (Hint: this is the mean of the last column in the data array.)"
   ]
  },
  {
   "cell_type": "code",
   "execution_count": 19,
   "metadata": {},
   "outputs": [
    {
     "name": "stdout",
     "output_type": "stream",
     "text": [
      "5.6360225140712945\n"
     ]
    }
   ],
   "source": [
    "# axis=1 -> operate down row (affects each row). (optional here)\n",
    "# axis=0 -> operate down columns (affects each column). (optional here)\n",
    "quality_data = np_data[:, 11]\n",
    "# Used slicing to only get the mean of 12th column\n",
    "mean_quality =  np.mean(quality_data, axis=0)\n",
    "print(mean_quality)"
   ]
  },
  {
   "cell_type": "markdown",
   "metadata": {},
   "source": [
    "#### 3. What are the minimum and maximum pH values observed in the dataset? (Use NumPy to find the smallest and largest pH.)"
   ]
  },
  {
   "cell_type": "code",
   "execution_count": 22,
   "metadata": {},
   "outputs": [
    {
     "name": "stdout",
     "output_type": "stream",
     "text": [
      "4.01\n",
      "2.74\n"
     ]
    }
   ],
   "source": [
    "largest_PH_Value = np.max(np_data[:,8])\n",
    "smallest_PH_Value = np.min(np_data[:,8])\n",
    "\n",
    "print(largest_PH_Value)\n",
    "print(smallest_PH_Value)"
   ]
  },
  {
   "cell_type": "markdown",
   "metadata": {},
   "source": [
    "### 4. Determine the mean and standard deviation of the alcohol content in these wines. (Calculate the average alcohol percentage and how much it varies.)"
   ]
  },
  {
   "cell_type": "code",
   "execution_count": 25,
   "metadata": {},
   "outputs": [
    {
     "name": "stdout",
     "output_type": "stream",
     "text": [
      "10.422983114446529\n",
      "1.0653343003437483\n"
     ]
    }
   ],
   "source": [
    "mean_alcohol_content =  np.mean(np_data[:,10])\n",
    "print(mean_alcohol_content) \n",
    "\n",
    "# By default, np.std() uses population standard deviation.\n",
    "# If you want sample standard deviation (which divides by n-1), use ddof=1:\n",
    "\n",
    "std_alcohol_content = np.std(np_data[:,10])\n",
    "print(std_alcohol_content)"
   ]
  },
  {
   "cell_type": "markdown",
   "metadata": {},
   "source": [
    "#### 5. List all the unique quality ratings present in the dataset. (What distinct quality values appear? Use np.unique on the quality column.)\n"
   ]
  },
  {
   "cell_type": "code",
   "execution_count": 28,
   "metadata": {},
   "outputs": [
    {
     "name": "stdout",
     "output_type": "stream",
     "text": [
      "[3. 4. 5. 6. 7. 8.]\n"
     ]
    }
   ],
   "source": [
    "unique_quality_ratings = np.unique(np_data[:,11])\n",
    "print(unique_quality_ratings)"
   ]
  },
  {
   "cell_type": "markdown",
   "metadata": {},
   "source": [
    "#### 6. How many wine samples have a quality rating of 7? (Count the number of entries where the quality column is exactly 7.)\n"
   ]
  },
  {
   "cell_type": "code",
   "execution_count": 31,
   "metadata": {},
   "outputs": [
    {
     "name": "stdout",
     "output_type": "stream",
     "text": [
      "199\n"
     ]
    }
   ],
   "source": [
    "# quality_ratings = np_data[:,11]\n",
    "# print(quality_ratings)\n",
    "\n",
    "ratings_equal_to_7 =  np.count_nonzero(np_data[:, 11] == 7)\n",
    "print(ratings_equal_to_7)"
   ]
  },
  {
   "cell_type": "markdown",
   "metadata": {},
   "source": [
    "#### 7. How many wines have an alcohol content greater than 10%? (Hint: create a boolean mask for alcohol > 10 and sum it or use np.where.)\n"
   ]
  },
  {
   "cell_type": "code",
   "execution_count": 34,
   "metadata": {},
   "outputs": [
    {
     "name": "stdout",
     "output_type": "stream",
     "text": [
      "[ 9.4  9.8  9.8 ... 11.  10.2 11. ]\n",
      "[False False False ...  True  True  True]\n",
      "852\n"
     ]
    }
   ],
   "source": [
    "# A boolean mask in NumPy is basically an array of True and False\n",
    "alcohol_content_data = np_data[:,10]\n",
    "print(alcohol_content_data)\n",
    "\n",
    "# boolean mask for alcohol > 10 \n",
    "mask = alcohol_content_data > 10\n",
    "print(mask)\n",
    "\n",
    "# By default counts only True values\n",
    "count = np.count_nonzero(mask)\n",
    "print(count)"
   ]
  },
  {
   "cell_type": "markdown",
   "metadata": {},
   "source": [
    "#### 8. What is the average citric acid concentration across all red wines? (Compute the mean of the citric acid column.)\n"
   ]
  },
  {
   "cell_type": "code",
   "execution_count": 37,
   "metadata": {},
   "outputs": [
    {
     "name": "stdout",
     "output_type": "stream",
     "text": [
      "0.2709756097560976\n"
     ]
    }
   ],
   "source": [
    "avg_critic_acid = np.mean(np_data[:,2])\n",
    "print(avg_critic_acid)"
   ]
  },
  {
   "cell_type": "markdown",
   "metadata": {},
   "source": [
    "#### 9. Determine the median residual sugar content in the dataset. (Hint: you can use np.median or np.percentile with 50th percentile to find the median residual sugar.)\n"
   ]
  },
  {
   "cell_type": "code",
   "execution_count": 40,
   "metadata": {},
   "outputs": [
    {
     "name": "stdout",
     "output_type": "stream",
     "text": [
      "[1.9 2.6 2.3 ... 2.3 2.  3.6]\n",
      "2.2\n",
      "2.2\n"
     ]
    }
   ],
   "source": [
    "sugar_content =  np_data[:,3]\n",
    "print(sugar_content)\n",
    "\n",
    "median_sugar_content  = np.median(sugar_content)\n",
    "print(median_sugar_content)\n",
    "\n",
    "sugar_using_percentile = np.percentile(sugar_content , 50)\n",
    "print(sugar_using_percentile)"
   ]
  },
  {
   "cell_type": "markdown",
   "metadata": {},
   "source": [
    "#### 10. What is the 75th percentile (upper quartile) of the alcohol content? (In other words, 25% of the wines have an alcohol content above what value?)\n"
   ]
  },
  {
   "cell_type": "code",
   "execution_count": 43,
   "metadata": {},
   "outputs": [
    {
     "name": "stdout",
     "output_type": "stream",
     "text": [
      "[ 9.4  9.8  9.8 ... 11.  10.2 11. ]\n",
      "11.1\n"
     ]
    }
   ],
   "source": [
    "print(alcohol_content_data)\n",
    "\n",
    "upper_quartile = np.percentile(alcohol_content_data, 75)\n",
    "print(upper_quartile)"
   ]
  },
  {
   "cell_type": "markdown",
   "metadata": {},
   "source": [
    "#### 11. determine how many wines fall into each quality score category. (Find the count of samples for each unique quality value.) Which quality rating is most common in the red wine dataset?\n"
   ]
  },
  {
   "cell_type": "code",
   "execution_count": 46,
   "metadata": {},
   "outputs": [
    {
     "name": "stdout",
     "output_type": "stream",
     "text": [
      "[3. 4. 5. 6. 7. 8.]\n",
      "[ 10  53 681 638 199  18]\n",
      "5.0\n"
     ]
    }
   ],
   "source": [
    "# unique values in sorted order\n",
    "# counts (how many times each unique value appears in arr)\n",
    "unique, counts = np.unique(np_data[:, 11], return_counts=True)\n",
    "\n",
    "print(unique) \n",
    "print(counts) \n",
    "\n",
    "# np.argmax(arr) -> returns the index of the largest value in arr\n",
    "#so np.argmax(counts) gives the index of the most frequent value\n",
    "most_common = unique[np.argmax(counts)]\n",
    "\n",
    "print(most_common)"
   ]
  },
  {
   "cell_type": "markdown",
   "metadata": {},
   "source": [
    "#### 12. Which five wine samples have the highest alcohol content? Identify their alcohol values and corresponding quality scores. (Hint: use np.argsort to sort by the alcohol column and pick the top 5 entries.)\n"
   ]
  },
  {
   "cell_type": "code",
   "execution_count": 49,
   "metadata": {},
   "outputs": [
    {
     "name": "stdout",
     "output_type": "stream",
     "text": [
      "[ 9.4  9.8  9.8 ... 11.  10.2 11. ]\n",
      "[ 652  142  467 ... 1436  517  544]\n",
      "[14.9 14.  14.  14.  14. ]\n"
     ]
    }
   ],
   "source": [
    "print(alcohol_content_data)\n",
    "\n",
    "sorted_alcohol_content_data = np.argsort(alcohol_content_data)[::-1]\n",
    "\n",
    "# This print the index of smallest value\n",
    "print(sorted_alcohol_content_data)\n",
    "\n",
    "# To print the top 5 highest values corresponding to the alcohol_content_data\n",
    "top_five = alcohol_content_data[sorted_alcohol_content_data[:5]]\n",
    "print(top_five)"
   ]
  },
  {
   "cell_type": "markdown",
   "metadata": {},
   "source": [
    "#### 13. Do wines with higher alcohol content tend to have higher quality? To investigate, compare the average quality of wines with above-average alcohol to those with below-average alcohol. (Calculate the mean quality for wines where alcohol is above the overall average, and compare it to the mean quality for wines where alcohol is below the average.)\n"
   ]
  },
  {
   "cell_type": "code",
   "execution_count": 52,
   "metadata": {},
   "outputs": [
    {
     "name": "stdout",
     "output_type": "stream",
     "text": [
      "10.422983114446529\n",
      "Alcohol Above Avg content: 683\n",
      "Alcohol Below Avg content: 916\n",
      "Mean Quality (Above Avg Alcohol content): 6.026354319180088\n",
      "Mean Quality (Below Avg Alcohol content): 5.344978165938865\n"
     ]
    }
   ],
   "source": [
    "mean_alcohol = np.mean(alcohol_content_data)\n",
    "\n",
    "\n",
    "print(mean_alcohol)\n",
    "\n",
    "above_mask = alcohol_content_data >= mean_alcohol\n",
    "below_mask = alcohol_content_data < mean_alcohol\n",
    "\n",
    "above_avg_content = np.count_nonzero(above_mask)\n",
    "below_avg_content = np.count_nonzero(below_mask)\n",
    "\n",
    "print(f\"Alcohol Above Avg content: {above_avg_content}\")\n",
    "print(f\"Alcohol Below Avg content: {below_avg_content}\")\n",
    "\n",
    "# Mean quality for each\n",
    "mean_quality_above = np.mean(quality_data[above_mask])\n",
    "mean_quality_below = np.mean(quality_data[below_mask])\n",
    "\n",
    "print(f\"Mean Quality (Above Avg Alcohol content): {mean_quality_above}\")\n",
    "print(f\"Mean Quality (Below Avg Alcohol content): {mean_quality_below}\")"
   ]
  },
  {
   "cell_type": "markdown",
   "metadata": {},
   "source": [
    "### 14. Compute the average alcohol percentage for each quality score in the dataset. (Group the data by the quality column and calculate the mean alcohol content for each quality value. Which quality level has the highest average alcohol content?)\n"
   ]
  },
  {
   "cell_type": "code",
   "execution_count": 55,
   "metadata": {},
   "outputs": [
    {
     "name": "stdout",
     "output_type": "stream",
     "text": [
      "3.0 9.955000000000002\n",
      "4.0 10.265094339622639\n",
      "5.0 9.899706314243758\n",
      "6.0 10.629519331243468\n",
      "7.0 11.465912897822445\n",
      "8.0 12.094444444444445\n"
     ]
    }
   ],
   "source": [
    "quality_data = np_data[:, 11]\n",
    "# print(quality_data)\n",
    "\n",
    "for q in unique_quality_ratings:\n",
    "    mask = quality_data == q # all wines with quality == q\n",
    "    avg_alcohol = np.mean(alcohol_content_data[mask])\n",
    "    print(q, avg_alcohol)\n"
   ]
  },
  {
   "cell_type": "markdown",
   "metadata": {},
   "source": [
    "#### 15. Define total acidity as the sum of fixed acidity and volatile acidity for each wine. First, calculate the total acidity for every sample. Next, add this as a new column to the dataset (so the array now has 13 columns). Which wine has the highest total acidity, and what is its quality rating? (Find the index of the max total acidity and check the quality at that index.)\n"
   ]
  },
  {
   "cell_type": "code",
   "execution_count": 58,
   "metadata": {},
   "outputs": [
    {
     "name": "stdout",
     "output_type": "stream",
     "text": [
      "[7.4 7.8 7.8 ... 6.3 5.9 6. ]\n",
      "[0.7   0.88  0.76  ... 0.51  0.645 0.31 ]\n",
      "[8.1   8.68  8.56  ... 6.81  6.545 6.31 ]\n",
      "442\n",
      "16.285\n",
      "7.0\n"
     ]
    }
   ],
   "source": [
    "# total acidity = fixed acidity + volatile acidity -> for each wine\n",
    "# print(np_data.shape)\n",
    "# print(np_data)\n",
    "\n",
    "fixed_acidity = np_data[:,0]\n",
    "volatile_acidity = np_data[:,1]\n",
    "print(fixed_acidity)\n",
    "print(volatile_acidity)\n",
    "\n",
    "total_acidity = fixed_acidity + volatile_acidity\n",
    "print(total_acidity)\n",
    "\n",
    "np_data = np.column_stack((np_data, total_acidity))\n",
    "# print(np_data)\n",
    "\n",
    "max_index = np.argmax(total_acidity)  # index of max value\n",
    "max_total_acidity = total_acidity[max_index]\n",
    "print(max_index)\n",
    "print(max_total_acidity)\n",
    "\n",
    "quality = quality_data[442]\n",
    "print(quality)"
   ]
  },
  {
   "cell_type": "markdown",
   "metadata": {},
   "source": [
    "#### 16. Compute the Pearson correlation coefficient between alcohol content and quality. (Use NumPy to see if higher alcohol correlates with higher quality. A positive correlation would indicate that as alcohol increases, quality tends to increase.)\n"
   ]
  },
  {
   "cell_type": "code",
   "execution_count": 61,
   "metadata": {},
   "outputs": [
    {
     "name": "stdout",
     "output_type": "stream",
     "text": [
      "[ 9.4  9.8  9.8 ... 11.  10.2 11. ]\n",
      "[5. 5. 5. ... 6. 5. 6.]\n",
      "[[1.         0.47616632]\n",
      " [0.47616632 1.        ]]\n",
      "0.4761663240011359\n"
     ]
    }
   ],
   "source": [
    "print(alcohol_content_data)\n",
    "print(quality_data)\n",
    "\n",
    "# used to calculate correlation\n",
    "correlation_matrix = np.corrcoef(alcohol_content_data, quality_data)\n",
    "print(correlation_matrix)\n",
    "\n",
    "pearson_corr = correlation_matrix[0, 1]\n",
    "print(pearson_corr)"
   ]
  },
  {
   "cell_type": "markdown",
   "metadata": {},
   "source": [
    "#### 17. How many wines have quality >= 7 and alcohol > 10%? (In other words, count the wines that are high quality and also have relatively high alcohol. Use a boolean condition combining both criteria.)\n"
   ]
  },
  {
   "cell_type": "code",
   "execution_count": 64,
   "metadata": {},
   "outputs": [
    {
     "name": "stdout",
     "output_type": "stream",
     "text": [
      "196\n"
     ]
    }
   ],
   "source": [
    "wines_quality = (quality_data > 6) & (alcohol_content_data > 10)\n",
    "print(np.count_nonzero(wines_quality))"
   ]
  },
  {
   "cell_type": "markdown",
   "metadata": {},
   "source": [
    "#### 18.Which feature exhibits the greatest variability among all the wines? (Calculate the standard deviation of each feature column (consider the 11 physicochemical features) and identify which feature has the highest standard deviation.)\n",
    " "
   ]
  },
  {
   "cell_type": "code",
   "execution_count": 67,
   "metadata": {},
   "outputs": [
    {
     "name": "stdout",
     "output_type": "stream",
     "text": [
      "(1599, 13)\n",
      "[1.74055180e+00 1.79003704e-01 1.94740214e-01 1.40948711e+00\n",
      " 4.70505826e-02 1.04568856e+01 3.28850367e+01 1.88674370e-03\n",
      " 1.54338181e-01 1.69453967e-01 1.06533430e+00 8.07316877e-01\n",
      " 1.70351400e+00]\n",
      "col number 6\n"
     ]
    }
   ],
   "source": [
    "print(np_data.shape)\n",
    "\n",
    "std_per_column = np.std(np_data, axis=0)\n",
    "print(std_per_column)\n",
    "\n",
    "print(\"col number\", np.argmax(std_per_column))"
   ]
  },
  {
   "cell_type": "markdown",
   "metadata": {},
   "source": [
    "#### 19. Compare the mean volatile acidity of high-quality wines versus lower-quality wines. (Consider wines with quality ≥ 7 as \"high quality\" and those with quality ≤ 6 as \"lower quality\". Compute the average volatile acidity in each group. Do high-quality wines have lower volatile acidity on average?)\n"
   ]
  },
  {
   "cell_type": "code",
   "execution_count": 70,
   "metadata": {},
   "outputs": [
    {
     "name": "stdout",
     "output_type": "stream",
     "text": [
      "5.6360225140712945\n",
      "[0.7   0.88  0.76  ... 0.51  0.645 0.31 ]\n",
      " YES HIGH QUALITY WINES HAVE LOWER ACIDITY 0.4741461988304093\n",
      "acidity in low quality wines:  0.589502688172043\n"
     ]
    }
   ],
   "source": [
    "print(mean_quality)\n",
    "print(volatile_acidity)\n",
    "\n",
    "high_quality = quality_data >= mean_quality\n",
    "low_quality =quality_data < mean_quality\n",
    "\n",
    "# print(high_quality)\n",
    "# print(low_quality)\n",
    "\n",
    "# count_high = np.count_nonzero(high_quality)\n",
    "# count_low = np.count_nonzero(low_quality)\n",
    "\n",
    "# print(count_high)\n",
    "# print(count_low)\n",
    "\n",
    "high_quality_acidity = volatile_acidity[high_quality]\n",
    "low_quality_acidity = volatile_acidity[low_quality]\n",
    "# print(high_quality_acidity)\n",
    "\n",
    "mean_acidity_high = np.mean(high_quality_acidity)\n",
    "print(\" YES HIGH QUALITY WINES HAVE LOWER ACIDITY\" ,mean_acidity_high)\n",
    "\n",
    "mean_acidity_low = np.mean(low_quality_acidity)\n",
    "print(\"acidity in low quality wines: \", mean_acidity_low)"
   ]
  },
  {
   "cell_type": "markdown",
   "metadata": {},
   "source": [
    "#### 20. What is the highest quality score attained by any red wine in the dataset, and how many samples achieved that score? (Find the maximum value in the quality column, and count how many wines have that maximum quality.)"
   ]
  },
  {
   "cell_type": "code",
   "execution_count": 73,
   "metadata": {},
   "outputs": [
    {
     "name": "stdout",
     "output_type": "stream",
     "text": [
      "267\n",
      "8.0\n",
      "Total no of occurences: 18\n"
     ]
    }
   ],
   "source": [
    "# unique_quality_ratings consists of the unique array of ratings\n",
    "highest_quality_index = np.argmax(quality_data)\n",
    "print(highest_quality_index)\n",
    "\n",
    "highest_quality_value = quality_data[highest_quality_index]\n",
    "print(highest_quality_value)\n",
    "\n",
    "val = quality_data == highest_quality_value\n",
    "count = np.count_nonzero(val)\n",
    "print(\"Total no of occurences:\",count)"
   ]
  }
 ],
 "metadata": {
  "colab": {
   "provenance": []
  },
  "kernelspec": {
   "display_name": "Python 3 (ipykernel)",
   "language": "python",
   "name": "python3"
  },
  "language_info": {
   "codemirror_mode": {
    "name": "ipython",
    "version": 3
   },
   "file_extension": ".py",
   "mimetype": "text/x-python",
   "name": "python",
   "nbconvert_exporter": "python",
   "pygments_lexer": "ipython3",
   "version": "3.12.7"
  }
 },
 "nbformat": 4,
 "nbformat_minor": 4
}
